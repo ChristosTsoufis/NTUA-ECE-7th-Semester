{
  "cells": [
    {
      "cell_type": "markdown",
      "source": [
        "### National Technical University of Athens\n",
        "### School of Electrical & Computer Engineering\n",
        "### Course: **Artificial Intelligence**\n",
        "#### *7th Semester, 2020-2021*\n",
        "##### Full Name: Christos Tsoufis\n",
        "##### A.M.: 031 17 176\n",
        "        \n",
        "## **Lab 2**"
      ],
      "metadata": {
        "id": "zx4ssWcdxRHy"
      }
    },
    {
      "cell_type": "markdown",
      "metadata": {
        "id": "YNwhI6744rUa"
      },
      "source": [
        "# Τεχνητή Νοημοσύνη: Εργαστηριακή Άσκηση 2\n",
        "---\n",
        "\n",
        "Ο στόχος της εργασίας είναι η κατασκευή ενός συστήματος προτάσεων (Recommendation System) για ταινίες. Οι προτάσεις αυτές θα πηγάζουν τόσο από τα χαρακτηριστικά της ταινίας όσο και από ορισμένες αξιολογήσεις του κάθε χρήστη.\n",
        "\n",
        "Στα δεδομένα της άσκησης περιλαμβάνονται ένα αρχείο με το όνομα movies_metadata.csv το όποιο περιέχει τα χαρακτηριστικά κάθε ταινίας όπως θέμα, σκηνοθέτης ηθοποιοί, λέξεις κλειδιά κ.α. από το imdb καθώς και τα αρχεία ratings.csv τα όποια περιέχουν πραγματικές αξιολογήσεις χρηστών, χωρισμένες σε train και σε test.\n"
      ]
    },
    {
      "cell_type": "markdown",
      "source": [
        "# Εκφώνηση\n",
        "Στην παρούσα εργασία σας ζητείται να μελετήσετε και να υλοποιήσετε τα παρακάτω:<br>\n",
        "\n",
        "### Μέρος 1\n",
        "Στο μέρος 1 και 2 θα ασχοληθείτε και θα εργαστείτε μόνο με το αρχείο movies_metadata.csv.\n",
        "#### Ερώτημα 1α\n",
        "\n",
        "Αρχικά θα πρέπει, αφού μελετήσετε τη δομή και τα χαρακτηριστικά του αρχείου αυτού, να κατασκευάσετε μια βάση γνώσης για την Prolog η όποια ουσιαστικά θα αποτελεί τον κόσμο με τον όποιο θα εργαστείτε στην συνέχεια. Τα κατηγορήματα που θα δημιουργηθούν θα σας βοηθήσουν και στην κατασκευή του recommender και θα είναι της μορφής:\n",
        "\n",
        "```\n",
        "director(Movie, Director).\n",
        "genre(Movie, Genre).\n",
        "```\n",
        "#### Ερώτημα 1β\n",
        "\n",
        "Αφού δημιουργήσετε τον κόσμο του προβλήματος, στη συνέχεια καλείστε να δημιουργήσετε, σε Prolog, απλούς κανόνες οι οποίοι θα βρίσκουν όλες τις ταινίες με:\n",
        "1.\tΚοινό θέμα (κάποιες λέξεις σχετικά με το genre κοινές)\n",
        "2.\tΑρκετά κοινό θέμα (κάποιες λιγότερες λέξεις σχετικά με το genre κοινές π.χ. 3)\n",
        "3.\tΣχετικά κοινό θέμα (λίγες λέξεις σχετικές με το genre κοινές π.χ. 1)\n",
        "4.\tΚοινός σκηνοθέτης\n",
        "5.\tΑκριβώς ίδια πλοκή (κάποιες λέξεις κλειδιά της πλοκής κοινές)\n",
        "6.\tΣχετικά ίδια πλοκή (κάποιες λιγότερες λέξεις κλειδιά κοινές)\n",
        "7.\tΊδιους τους βασικούς ηθοποιούς (και τους 3)\n",
        "8.\tΑρκετά ίδιους βασικούς ηθοποιούς (ορισμένους βασικούς ηθοποιούς κοινούς π.χ. 2)\n",
        "9.\tΣχετικά ίδιους ηθοποιούς (π.χ. 1 από τους 3)\n",
        "10.\tΊδια γλώσσα\n",
        "11.\tΕίναι έγχρωμες ή ασπρόμαυρες\n",
        "\n",
        "Αξίζει να σημειωθεί ότι στα παραπάνω μπορείτε να προσθέσετε περισσότερα ερωτήματα ή να αλλάξετε την κλιμακωσιμότητα των queries (πέρα από το ίδιο, αρκετά ίδιο, σχετικά ίδιο) που θα κατασκευάσετε(π.χ. μια κλίμακα από 1 στα 5 όπου αυτό είναι δυνατόν), μιας και αυτά στην συνέχεια θα χρησιμοποιηθούν για την λειτουργία του recommender. Έτσι μπορείτε να προσθέσετε queries με τα όποια μπορεί να παράγονται καλύτερες συστάσεις  (το αρχείο movie_metadata.csv περιέχει πολλές πληροφορίες ακόμα για κάθε ταινία όπως έτος κυκλοφορίας, βαθμολογία στο imdb, facebοok_likes κ.α.).\n",
        "\n",
        "Περισσότερες πληροφορίες για το dataset μπορείτε να διαβάσετε σε αυτό το [Link](https://www.kaggle.com/georgefila/movies-metadata):\n",
        "### Μέρος 2: Recommendation System\n",
        "Στο σημείο αυτό καλείστε με βάση αυτά που κάνατε στο μέρος 1 να κατασκευάσετε queries τα όποια θα σας επιστρέφουν παρόμοιες (σε χαρακτηριστικά) ταινίες. Τα ερωτήματα αυτά θα είναι κλιμακούμενα, δηλαδή θα υπάρχουν ερωτήματα που επιστρέφουν αρκετά κοινές ταινίες αλλά και που επιστρέφουν λιγότερο και λιγότερο κοινές (σε μια κλίμακα π.χ. από 1 σε 5). Για παράδειγμα:\n",
        "\n",
        "```\n",
        "find_simmilar_movies_5(\"Pirates Of The Caribbean\", M).\n",
        "M = \"Pirates Of The Caribbean: On Stranger Tides\"\n",
        "M = \"The Chronicles Of Narnia\"\n",
        "M = \"Prince Of Persia: The Sands Of Time\"\n",
        "...\n",
        "```\n",
        "Για παράδειγμα, το παραπάνω ερώτημα θα επιστρέφει αρκετά κοινές σε περιεχόμενο ταινίες με την ταινια \"Pirates Of The Caribbean\". Θα υπάρχουν και αντίστοιχα ερωτήματα που θα βρίσκουν λιγότερο όμοιες ταινίες. Ο δείκτης ομοιότητας των ταινιών είναι αυθαίρετος και μπορείτε να τον ορίσετε εσείς όπως θέλετε, αρκεί να υπάρχει κάποια λογική σύνδεση με τα δεδομένα που περιέχονται στο αρχείο movies_metadata.csv. \n",
        "\n",
        "Συνεπώς η συνάρτηση που θα κάνει τις προτάσεις (recommendation) με είσοδο μια ταινία πρέπει να επιστρέφει-εκτυπώνει μια λίστα με τις προτεινόμενες ταινίες κατά φθίνουσα σειρά ομοιότητας. \n",
        "\n",
        "\n",
        "###3ο Μέρος: Recommendation System Με βάση τις προτιμήσεις - Αξιολογήσεις του χρήστη\n",
        "\n",
        "\n",
        "Σε αυτό το σημείο θα εργαστείτε με τα αρχεία ratings τα όποια περιέχουν αξιολογήσεις (από 1 μέχρι 5) για τις παραπάνω ταινίες. Το προηγούμενο σύστημα συστάσεων προτείνει στον χρήστη ταινίες αποκλειστικά με βάση την ομοιότητά τους. Σε αυτό το σημείο θα γίνει μια αναβάθμιση του συστήματος έτσι ώστε να παράγονται καλύτερες  συστάσεις οι όποιες θα λαμβάνουν υπόψιν και τις προτιμήσεις του χρήστη, οι όποιες θα εξάγονται από τις αξιολογήσεις που έχει κάνει μέχρι στιγμής. \n",
        "\n",
        "Η εκπαίδευση του recommender θα γίνεται ως εξής:\n",
        "\n",
        "Για κάθε ταινία θα υπάρχει ένα score το όποιο αρχικά θε είναι ίσο με 0 και θα διαμορφώνεται από τις αξιολογήσεις κάθε user. Έτσι για έναν χρήστη με βάση τις αξιολογήσεις που υπάρχουν στο αρχείο train_ratings θα πρέπει:\n",
        "\n",
        "1.\tΓια κάθε ταινία που έχει βαθμολογήσει να βρίσκονται οι κοινές ταινίες ανά κλίμακα και στο μέχρι τώρα σκορ κάθε παρόμοιας ταινίας θα προστίθεται ένα βάρος το όποιο θα μπορούσε να είναι το ποσοστό ομοιότητας της ταινίας (δηλαδή ένα βάρος για κάθε κλίμακα) επί τον βαθμό που έχει βάλει ο χρήστης για την αρχική ταινία. Στη συνέχεια, ανάλογα με το σκορ που έχει σχηματιστεί για κάθε ταινία, θα επιλέγεται αν αυτή θα μπορούσε να είναι προτεινόμενη για τον χρήστη.\n",
        "\n",
        "Η λογική πίσω από την παραπάνω διαδικασία είναι ότι παρόμοιες ταινίες θα έχουν ανάλογο βαθμό. Για παράδειγμα αν ένας χρήστης έχει αξιολογήσει αρκετές  ταινίες οι όποιες είναι sci-fiction με 5/5 τότε μια ταίνια sci-fiction την όποια δεν έχει δεί λογικά θα του αρέσει και θα έπρεπε να την προτείνουμε.\n",
        "\n",
        "Μετά την εκπαίδευση του συστήματος σας καλείστε να δοκιμάσετε τον recommender που κατασκευάσατε στην πράξη. Για τον σκοπό αυτό θα φορτώσετε το αρχείο train_ratings.csv όπου περιέχονται οι αξιολογήσεις του ίδιου χρήστη για άλλες ταινίες. Το σύστημά σας πρέπει να προβλέπει αν μια ταινία θα πρέπει να προταθεί στον χρήστη. Μια ταίνια θα έπρεπε να έχει προταθεί στον  χρήστη, αν έχει βαθμό μεγαλύτερο του 3. Συνεπώς για την επίβλεψη του συστήματός σας θα πρέπει για κάθε μια από τις ταινίες του αρχείου test_ratings.csv να επιστρέφεται 1 ή 0 αν η ταινία θα έπαιρνε βαθμό μεγαλύτερο του 3 ή όχι, δηλαδή αν θα έπρεπε να την είχαμε προτείνει ή όχι.\n",
        "\n",
        "Στην συνέχεια, σε συνδιασμό με τις πραγματικές απαντήσεις του χρήστη θα αξιολογήσετε το σύστημά σας χρησιμοποιόντας τις μετρικές: precision, recall, f1 οι οποίες είναι οι πλέον γνωστές μετρικές και ευρέως χρησιμοποιούμενες τεχνικές για την επίβλεψη-μέτρηση απόδοσης ανάλογων συστημάτων.\n",
        "\n",
        "1. Precision: Δείχνει πόσο ακριβές είναι το σύστημα. Υπολογίζει πόσα από τα στιγμιότυπα τα όποια προβλέψαμε ότι ανήκουν σε μια κλάση όντως ανήκουν σε αυτή. Η μετρική αυτή μας δίνει μια εικόνα σχετικά με τον αριθμό των ταινίων που προβλέψαμε ως προτεινόμενες ενώ δεν θα έπρεπε.\n",
        "\n",
        "2. Recall: Υπολογίζει πόσα από τα στιγμιότυπα που ανήκουν σε μια κλάση (π.χ. προτεινόμενες ταινίες) προβλέφθηκαν σωστά.\n",
        "\n",
        "3. F1: Είναι ένας μέσος μεταξύ των παραπάνω δυο μετρικών, έτσι ώστε να διατηρείται μια ισορροπία μεταξύ τους. Υπολογίζεται από την παρακάτω σχέση:\n",
        "\n",
        "$$F_1=2\\frac{Precision\\times{Recall}}{Precision+Recall}$$\n",
        "\n",
        "Οι παραπάνω συναρτήσεις παρέχονται από την βιβλιοθήκη scikit-learn.\n",
        "\n",
        "Τέλος για την καλύτερη επίβλεψη του συστήματος σας μπορείτε να εκπαιδεύσετε  τον recommender σας με ένα υποσύνολο ταινίων (π.χ. 10, 20, 50, ...) για να μελετήσετε κατά πόσο σας βοηθούν οι επιπλέον αξιολογήσεις κάθε φορά (δηλαδή κατά πόσο βελτιώνονται οι παραπάνω μετρικές στο test set). Έτσι π.χ. μπορείτε να εντοπίσετε περιπτώσεις όπως για παράδειγμα ότι με έναν recommender μπορεί να μην επιτυγχάνετε πολύ υψηλό σκορ όσο με άλλους, αλλά το βέλτιστο σκόρ σας επιτυγχάνεται πολύ γρηγόρα π.χ. με μόνο 10 ταινίες αντί 100.\n",
        "\n"
      ],
      "metadata": {
        "id": "7N37ahbWyaJk"
      }
    },
    {
      "cell_type": "markdown",
      "metadata": {
        "id": "doHQmp994rUb"
      },
      "source": [
        "---\n",
        "## Κατασκευή Περιβάλλοντος Εργασίας\n",
        "---\n",
        "### Διάβασμα Αρχείων στο Colab (Μόνο για το Colab)\n",
        "Αν η υλοποίηση γίνει στο google colab τότε μπορεί να χρησιμοποιηθεί το google drive ως file system. Για να γίνει Mount το google drive τρέχουμε τον παρακάτω κώδικα και κλικάρουμε στο link που θα μας εμφανιστεί. \n",
        "\n",
        "```\n",
        "from google.colab import drive\n",
        "drive.mount('/gdrive')\n",
        "import os\n",
        "os.listdir('/gdrive/My Drive')\n",
        "```\n",
        "Έπειτα στην σελίδα που άνοιξε επιλέγουμε το mail μας και στο επόμενο παράθυρο που θα μας ανοίξει πατάμε Να επιτρέπεται. Στην συνέχεια αντιγράφουμε τον κωδικό που θα μας βγάλει και τον κάνουμε paste στο Input που έχει ανοίξει στο colab. Έτσι πλέον αν έχουμε ανεβάσει ένα αρχείο στο google drive μπορούμε να το βρούμε στην θέση:\n",
        "\n",
        "```\n",
        "movies_filename = '/gdrive/My Drive/' + movies_metadata.csv\n",
        "```\n",
        "Μπορούμε πλέον κανονικά να δουλέψουμε φτιάχνοντας φακέλους ή αρχεία και γενικότερα κάνοντας οτιδήποτε θα κάναμε αν ήμασταν τοπικά. \n",
        "\n",
        "### Prolog μέσω Python\n",
        "\n",
        "Το πακέτο που θα χρησιμοποιηθεί για την επικοινωνία Python και Prolog είναι το pyswip (https://pypi.org/project/pyswip/). Για να δουλέψει το Pyswip  χρειάζεται να υπάρχει το Swi-Prolog το όποιο αν δουλεύουμε τοπικά πρέπει να το εγκαταστήσουμε, ακολουθώντας αντίστοιχες οδηγίες στην σελίδα του εργαλείου. Για να γίνει του Swi-Prolog η εγκατάσταση στο Google Colab πρέπει να τρέξουμε τον παρακάτω κώδικα:\n",
        "\n",
        "```\n",
        "!sudo apt-get install software-properties-common\n",
        "!sudo apt-add-repository ppa:swi-prolog/stable\n",
        "!sudo apt-get update\n",
        "!sudo apt-get install swi-prolog\n",
        "```\n",
        "Σε κάποιο σημείο της εκτέλεσης εμφανίζεται ένα μήνυμα ότι πρέπει να πατήσουμε enter σε ένα input για να συνεχίσει η διαδικασία. Έπειτα από αυτό η εκτέλεση θα συνεχίσει χωρίς κάποιο πρόβλημα.\n",
        "\n",
        "Τέλος πρέπει να εγκαταστήσουμε το pyswip (**όπου και να δουλεύουμε**) όπως παρακάτω:\n",
        "\n",
        "```\n",
        "!pip isntall pyswip\n",
        "```\n"
      ]
    },
    {
      "cell_type": "markdown",
      "source": [
        "---\n",
        "#Κώδικας για κατασκευή περιβάλλοντος εργασίας\n",
        "\n",
        "##Μόνο για Google Colab\n",
        "\n",
        "Κώδικας για να γίνει Mount to Google Drive"
      ],
      "metadata": {
        "id": "98cV4Mpfym2K"
      }
    },
    {
      "cell_type": "code",
      "execution_count": null,
      "metadata": {
        "id": "4QOs_gnx4rUb"
      },
      "outputs": [],
      "source": [
        "#from google.colab import drive\n",
        "#drive.mount('/gdrive')\n",
        "#import os\n",
        "#os.listdir('/gdrive/My Drive')\n",
        "#path='/gdrive/My Drive/'"
      ]
    },
    {
      "cell_type": "code",
      "execution_count": null,
      "metadata": {
        "id": "xZdXjQr64rUc"
      },
      "outputs": [],
      "source": [
        "#install swi-prolog\n",
        "#!sudo apt-get install software-properties-common\n",
        "#!sudo apt-add-repository ppa:swi-prolog/stable\n",
        "#!sudo apt-get update\n",
        "#!sudo apt-get install swi-prolog\n",
        "#install pyswip\n",
        "#!pip install pyswip"
      ]
    },
    {
      "cell_type": "markdown",
      "metadata": {
        "id": "GxLahZ-i4rUc"
      },
      "source": [
        "# **Μέρος 1: Μελέτη των Metadata, Δημιουργία κόσμου και των βασικών queries.**\n"
      ]
    },
    {
      "cell_type": "code",
      "execution_count": null,
      "metadata": {
        "id": "gA3CRz5c4rUc"
      },
      "outputs": [],
      "source": [
        "import pandas as pd\n",
        "from pyswip import Prolog"
      ]
    },
    {
      "cell_type": "code",
      "execution_count": null,
      "metadata": {
        "id": "jnVDBIDw4rUd",
        "outputId": "d6463e5a-11b6-41d8-cda0-b227e5feb33c"
      },
      "outputs": [
        {
          "data": {
            "text/html": [
              "<div>\n",
              "<style scoped>\n",
              "    .dataframe tbody tr th:only-of-type {\n",
              "        vertical-align: middle;\n",
              "    }\n",
              "\n",
              "    .dataframe tbody tr th {\n",
              "        vertical-align: top;\n",
              "    }\n",
              "\n",
              "    .dataframe thead th {\n",
              "        text-align: right;\n",
              "    }\n",
              "</style>\n",
              "<table border=\"1\" class=\"dataframe\">\n",
              "  <thead>\n",
              "    <tr style=\"text-align: right;\">\n",
              "      <th></th>\n",
              "      <th>Unnamed: 0</th>\n",
              "      <th>budget</th>\n",
              "      <th>genres</th>\n",
              "      <th>homepage</th>\n",
              "      <th>id</th>\n",
              "      <th>plot_keywords</th>\n",
              "      <th>language</th>\n",
              "      <th>original_title</th>\n",
              "      <th>overview</th>\n",
              "      <th>popularity</th>\n",
              "      <th>...</th>\n",
              "      <th>tagline</th>\n",
              "      <th>movie_title</th>\n",
              "      <th>vote_average</th>\n",
              "      <th>num_voted_users</th>\n",
              "      <th>title_year</th>\n",
              "      <th>country</th>\n",
              "      <th>director_name</th>\n",
              "      <th>actor_1_name</th>\n",
              "      <th>actor_2_name</th>\n",
              "      <th>actor_3_name</th>\n",
              "    </tr>\n",
              "  </thead>\n",
              "  <tbody>\n",
              "    <tr>\n",
              "      <th>0</th>\n",
              "      <td>0</td>\n",
              "      <td>237000000</td>\n",
              "      <td>Action|Adventure|Fantasy|Science Fiction</td>\n",
              "      <td>http://www.avatarmovie.com/</td>\n",
              "      <td>19995</td>\n",
              "      <td>culture clash|future|space war|space colony|so...</td>\n",
              "      <td>English</td>\n",
              "      <td>Avatar</td>\n",
              "      <td>In the 22nd century, a paraplegic Marine is di...</td>\n",
              "      <td>150.437577</td>\n",
              "      <td>...</td>\n",
              "      <td>Enter the World of Pandora.</td>\n",
              "      <td>Avatar</td>\n",
              "      <td>7.2</td>\n",
              "      <td>11800</td>\n",
              "      <td>2009.0</td>\n",
              "      <td>United States of America</td>\n",
              "      <td>James Cameron</td>\n",
              "      <td>Zoe Saldana</td>\n",
              "      <td>Sigourney Weaver</td>\n",
              "      <td>Stephen Lang</td>\n",
              "    </tr>\n",
              "    <tr>\n",
              "      <th>1</th>\n",
              "      <td>1</td>\n",
              "      <td>300000000</td>\n",
              "      <td>Adventure|Fantasy|Action</td>\n",
              "      <td>http://disney.go.com/disneypictures/pirates/</td>\n",
              "      <td>285</td>\n",
              "      <td>ocean|drug abuse|exotic island|east india trad...</td>\n",
              "      <td>English</td>\n",
              "      <td>Pirates of the Caribbean: At World's End</td>\n",
              "      <td>Captain Barbossa, long believed to be dead, ha...</td>\n",
              "      <td>139.082615</td>\n",
              "      <td>...</td>\n",
              "      <td>At the end of the world, the adventure begins.</td>\n",
              "      <td>Pirates of the Caribbean: At World's End</td>\n",
              "      <td>6.9</td>\n",
              "      <td>4500</td>\n",
              "      <td>2007.0</td>\n",
              "      <td>United States of America</td>\n",
              "      <td>Gore Verbinski</td>\n",
              "      <td>Orlando Bloom</td>\n",
              "      <td>Keira Knightley</td>\n",
              "      <td>Stellan Skarsgård</td>\n",
              "    </tr>\n",
              "    <tr>\n",
              "      <th>2</th>\n",
              "      <td>2</td>\n",
              "      <td>245000000</td>\n",
              "      <td>Action|Adventure|Crime</td>\n",
              "      <td>http://www.sonypictures.com/movies/spectre/</td>\n",
              "      <td>206647</td>\n",
              "      <td>spy|based on novel|secret agent|sequel|mi6|bri...</td>\n",
              "      <td>Français</td>\n",
              "      <td>Spectre</td>\n",
              "      <td>A cryptic message from Bond’s past sends him o...</td>\n",
              "      <td>107.376788</td>\n",
              "      <td>...</td>\n",
              "      <td>A Plan No One Escapes</td>\n",
              "      <td>Spectre</td>\n",
              "      <td>6.3</td>\n",
              "      <td>4466</td>\n",
              "      <td>2015.0</td>\n",
              "      <td>United Kingdom</td>\n",
              "      <td>Sam Mendes</td>\n",
              "      <td>Christoph Waltz</td>\n",
              "      <td>Léa Seydoux</td>\n",
              "      <td>Ralph Fiennes</td>\n",
              "    </tr>\n",
              "    <tr>\n",
              "      <th>3</th>\n",
              "      <td>3</td>\n",
              "      <td>250000000</td>\n",
              "      <td>Action|Crime|Drama|Thriller</td>\n",
              "      <td>http://www.thedarkknightrises.com/</td>\n",
              "      <td>49026</td>\n",
              "      <td>dc comics|crime fighter|terrorist|secret ident...</td>\n",
              "      <td>English</td>\n",
              "      <td>The Dark Knight Rises</td>\n",
              "      <td>Following the death of District Attorney Harve...</td>\n",
              "      <td>112.312950</td>\n",
              "      <td>...</td>\n",
              "      <td>The Legend Ends</td>\n",
              "      <td>The Dark Knight Rises</td>\n",
              "      <td>7.6</td>\n",
              "      <td>9106</td>\n",
              "      <td>2012.0</td>\n",
              "      <td>United States of America</td>\n",
              "      <td>Christopher Nolan</td>\n",
              "      <td>Michael Caine</td>\n",
              "      <td>Gary Oldman</td>\n",
              "      <td>Anne Hathaway</td>\n",
              "    </tr>\n",
              "    <tr>\n",
              "      <th>4</th>\n",
              "      <td>4</td>\n",
              "      <td>260000000</td>\n",
              "      <td>Action|Adventure|Science Fiction</td>\n",
              "      <td>http://movies.disney.com/john-carter</td>\n",
              "      <td>49529</td>\n",
              "      <td>based on novel|mars|medallion|space travel|pri...</td>\n",
              "      <td>English</td>\n",
              "      <td>John Carter</td>\n",
              "      <td>John Carter is a war-weary, former military ca...</td>\n",
              "      <td>43.926995</td>\n",
              "      <td>...</td>\n",
              "      <td>Lost in our world, found in another.</td>\n",
              "      <td>John Carter</td>\n",
              "      <td>6.1</td>\n",
              "      <td>2124</td>\n",
              "      <td>2012.0</td>\n",
              "      <td>United States of America</td>\n",
              "      <td>Andrew Stanton</td>\n",
              "      <td>Lynn Collins</td>\n",
              "      <td>Samantha Morton</td>\n",
              "      <td>Willem Dafoe</td>\n",
              "    </tr>\n",
              "  </tbody>\n",
              "</table>\n",
              "<p>5 rows × 27 columns</p>\n",
              "</div>"
            ],
            "text/plain": [
              "   Unnamed: 0     budget                                    genres  \\\n",
              "0           0  237000000  Action|Adventure|Fantasy|Science Fiction   \n",
              "1           1  300000000                  Adventure|Fantasy|Action   \n",
              "2           2  245000000                    Action|Adventure|Crime   \n",
              "3           3  250000000               Action|Crime|Drama|Thriller   \n",
              "4           4  260000000          Action|Adventure|Science Fiction   \n",
              "\n",
              "                                       homepage      id  \\\n",
              "0                   http://www.avatarmovie.com/   19995   \n",
              "1  http://disney.go.com/disneypictures/pirates/     285   \n",
              "2   http://www.sonypictures.com/movies/spectre/  206647   \n",
              "3            http://www.thedarkknightrises.com/   49026   \n",
              "4          http://movies.disney.com/john-carter   49529   \n",
              "\n",
              "                                       plot_keywords  language  \\\n",
              "0  culture clash|future|space war|space colony|so...   English   \n",
              "1  ocean|drug abuse|exotic island|east india trad...   English   \n",
              "2  spy|based on novel|secret agent|sequel|mi6|bri...  Français   \n",
              "3  dc comics|crime fighter|terrorist|secret ident...   English   \n",
              "4  based on novel|mars|medallion|space travel|pri...   English   \n",
              "\n",
              "                             original_title  \\\n",
              "0                                    Avatar   \n",
              "1  Pirates of the Caribbean: At World's End   \n",
              "2                                   Spectre   \n",
              "3                     The Dark Knight Rises   \n",
              "4                               John Carter   \n",
              "\n",
              "                                            overview  popularity  ...  \\\n",
              "0  In the 22nd century, a paraplegic Marine is di...  150.437577  ...   \n",
              "1  Captain Barbossa, long believed to be dead, ha...  139.082615  ...   \n",
              "2  A cryptic message from Bond’s past sends him o...  107.376788  ...   \n",
              "3  Following the death of District Attorney Harve...  112.312950  ...   \n",
              "4  John Carter is a war-weary, former military ca...   43.926995  ...   \n",
              "\n",
              "                                          tagline  \\\n",
              "0                     Enter the World of Pandora.   \n",
              "1  At the end of the world, the adventure begins.   \n",
              "2                           A Plan No One Escapes   \n",
              "3                                 The Legend Ends   \n",
              "4            Lost in our world, found in another.   \n",
              "\n",
              "                                movie_title vote_average  num_voted_users  \\\n",
              "0                                    Avatar          7.2            11800   \n",
              "1  Pirates of the Caribbean: At World's End          6.9             4500   \n",
              "2                                   Spectre          6.3             4466   \n",
              "3                     The Dark Knight Rises          7.6             9106   \n",
              "4                               John Carter          6.1             2124   \n",
              "\n",
              "  title_year                   country      director_name     actor_1_name  \\\n",
              "0     2009.0  United States of America      James Cameron      Zoe Saldana   \n",
              "1     2007.0  United States of America     Gore Verbinski    Orlando Bloom   \n",
              "2     2015.0            United Kingdom         Sam Mendes  Christoph Waltz   \n",
              "3     2012.0  United States of America  Christopher Nolan    Michael Caine   \n",
              "4     2012.0  United States of America     Andrew Stanton     Lynn Collins   \n",
              "\n",
              "       actor_2_name       actor_3_name  \n",
              "0  Sigourney Weaver       Stephen Lang  \n",
              "1   Keira Knightley  Stellan Skarsgård  \n",
              "2       Léa Seydoux      Ralph Fiennes  \n",
              "3       Gary Oldman      Anne Hathaway  \n",
              "4   Samantha Morton       Willem Dafoe  \n",
              "\n",
              "[5 rows x 27 columns]"
            ]
          },
          "execution_count": 1,
          "metadata": {},
          "output_type": "execute_result"
        }
      ],
      "source": [
        "# Η βιβλιοθήκη pandas είναι χρήσιμη για την εργασία με τέτοια δεδομένα\n",
        "import pandas as pd \n",
        "import os\n",
        "# Διάβασμα του αρχείου 'movie_metadata.csv' \n",
        "path = os.getcwd()\n",
        "data = pd.read_csv(os.path.join(path, \"movies_metadata.csv\")) \n",
        "#Στο csv υπαρχούν κελία με nan τιμές\n",
        "#Στις θέσεις αυτές βάζουμε 'UNK' πράγμα που  κάνουμε με την παρακάτω συνάρτηση\n",
        "data.fillna(\"UNK\", inplace=True)\n",
        "# Preview the first 5 lines of the loaded data \n",
        "data.head()"
      ]
    },
    {
      "cell_type": "code",
      "execution_count": null,
      "metadata": {
        "id": "sPAqSe0n4rUd"
      },
      "outputs": [],
      "source": [
        "def clean_text(text):\n",
        "    text = text.replace(u'\\xa0', u'')\n",
        "    text = text.replace(u\"'\", u'')\n",
        "    return text\n",
        "\n",
        "def clean_text2(text):\n",
        "    text = text.replace(u'\\xa0', u'')\n",
        "    text = text.replace(u\"'\", u'')\n",
        "    text = text.replace(u'\"', u'')\n",
        "    text = text.replace(u'[', u'')\n",
        "    text = text.replace(u']', u'')\n",
        "    text = text.replace(u'{', u'')\n",
        "    text = text.replace(u'}', u'')\n",
        "    return text"
      ]
    },
    {
      "cell_type": "markdown",
      "metadata": {
        "id": "rr72WJB3w5Kj"
      },
      "source": [
        "## **1A: Καταχώρηση Κατηγορημάτων**\n",
        "Έχοντας διαβάσει το αρχείο εισόδου .csv, μπορούμε να καταχωρήσουμε τις εξαγόμενες πληροφορίες στο σύστημα της Prolog με τη μορφή κατηγορημάτων.\n",
        "Στη συνέχεια, δημιουργούμε κανόνες που συσχετίζουν τις ταινίες με βάση κοινά χαρακτηριστικά τους.\n",
        "\n",
        "Σε περίπτωση που θέλουμε να ελέγξουμε τα παραγόμενα κατηγορήματα, μπορούμε να συμπεριλάβουμε τον κώδικα που τα αποθηκεύει στο αρχείο db.pl αφαιρώντας τον από τα σχόλια. \n",
        "Σε κάθε περίπτωση, το db.pl επισυνάπτεται μαζί με το παρόν παραδοτέο.\n",
        "\n",
        "Τα production_companies και production_countries χρησιμοποιούν την clean_text2 για καλύτερη επεξεργασία "
      ]
    },
    {
      "cell_type": "code",
      "execution_count": null,
      "metadata": {
        "id": "RcOo0hyJ4rUd"
      },
      "outputs": [],
      "source": [
        "import sys\n",
        "\n",
        "#create World\n",
        "#Ορίζουμε τον κόσμο μας\n",
        "prolog = Prolog()\n",
        "prolog.query('make')\n",
        "\n",
        "#Για κάθε row του πίνακα φτιάχνουμε τα κατηγορήματα που θέλουμε να αποθηκέυσουμε\n",
        "#αρχικά σε μια λίστα με το όνομα literals\n",
        "literals = []\n",
        "movie_score = {}\n",
        "for row in data.itertuples(index=True, name='Pandas'):\n",
        "    movie_title = clean_text(getattr(row, 'movie_title'))\n",
        "    \n",
        "    for genre in getattr(row, 'genres').split(\"|\"):\n",
        "        literals.append(\"genre('\"+ movie_title +\"','\"+ genre +\"')\")\n",
        "        \n",
        "    for plot_keywords in getattr(row, 'plot_keywords').split(\"|\"):\n",
        "        literals.append(\"plot('\"+ movie_title +\"','\"+ clean_text(plot_keywords) +\"')\")\n",
        "        #if clean_text(plot_keywords) = \"black_and_white\n",
        "                \n",
        "    for production_companies in getattr(row, 'production_companies').split(\"}, {\"):\n",
        "        literals.append(\"production_companies('\"+ movie_title +\"','\" + clean_text2(production_companies) + \"')\")\n",
        "        \n",
        "    for production_countries in getattr(row, 'production_countries').split(\"}, {\"):\n",
        "        literals.append(\"production_countries('\"+ movie_title +\"','\" + clean_text2(production_countries) + \"')\")\n",
        "        \n",
        "    literals.append(\"language('\"+ movie_title +\"','\"+ str(getattr(row, 'language')) +\"')\")\n",
        "    literals.append(\"vote_average('\"+ movie_title +\"','\"+ str(getattr(row, 'vote_average')) +\"')\")\n",
        "    literals.append(\"director('\"+ movie_title +\"','\"+ clean_text(getattr(row, 'director_name')) +\"')\")\n",
        "    literals.append(\"actor('\"+ movie_title +\"','\"+ clean_text(getattr(row, 'actor_1_name')) +\"')\")\n",
        "    literals.append(\"actor('\"+ movie_title +\"','\"+ clean_text(getattr(row, 'actor_2_name')) +\"')\")\n",
        "    literals.append(\"actor('\"+ movie_title +\"','\"+ clean_text(getattr(row, 'actor_3_name')) +\"')\")   \n",
        "    literals.append(\"country('\"+ movie_title +\"','\"+ clean_text(getattr(row, 'country')) +\"')\")\n",
        "    literals.append(\"movie('\"+ movie_title +\"')\")\n",
        "\n",
        "#Η Prolog θέλει τα κατηγορήματά της με την σειρά \n",
        "literals.sort()\n",
        "for literal in literals:\n",
        "      prolog.assertz(literal)\n",
        "\n",
        "#Αφαιρέστε τα σχόλια για αποθήκευση σε αρχείο\n",
        "with open('db.pl', 'w', encoding=\"utf-8\") as f:\n",
        "    for literal in literals:\n",
        "        print(literal, file=f)\n",
        "\n",
        "#Επίσης μπορούμε να κάνουμε consult ένα έτοιμο αρχείο στον κόσμο όπως παρακάτω\n",
        "#path = os.getcwd()\n",
        "#prolog.consult(os.path.join(path,\"db.pl\"))"
      ]
    },
    {
      "cell_type": "code",
      "execution_count": null,
      "metadata": {
        "id": "61SbKPrg4rUd",
        "outputId": "41a7f2e9-9573-4b07-ded0-13e651e1b986"
      },
      "outputs": [
        {
          "data": {
            "text/plain": [
              "{'A Walk to Remember',\n",
              " 'Bedtime Stories',\n",
              " 'Bringing Down the House',\n",
              " 'Cheaper by the Dozen 2',\n",
              " 'Hairspray',\n",
              " 'Rock of Ages',\n",
              " 'The Pacifier',\n",
              " 'The Wedding Planner'}"
            ]
          },
          "execution_count": 7,
          "metadata": {},
          "output_type": "execute_result"
        }
      ],
      "source": [
        "prolog.assertz('(directed_by(X,Y) :- director(X,Y))')\n",
        "#q = prolog.query(\"directed_by(X,'Adam Shankman')\")\n",
        "\n",
        "s = set()\n",
        "for soln in prolog.query(\"directed_by(M, 'Adam Shankman')\"):\n",
        "  m = soln['M'] \n",
        "  if m not in s:\n",
        "    s.add(soln['M'])\n",
        "s"
      ]
    },
    {
      "cell_type": "markdown",
      "metadata": {
        "id": "dBgHFvmcw5Kl"
      },
      "source": [
        "## **1B: Καταχώρηση Κανόνων**\n",
        "Στη συνέχεια, δημιουργούμε κανόνες που συσχετίζουν τις ταινίες με βάση κοινά χαρακτηριστικά τους."
      ]
    },
    {
      "cell_type": "code",
      "execution_count": null,
      "metadata": {
        "id": "YJvaZ938w5Kl"
      },
      "outputs": [],
      "source": [
        "# 1. Κοινό θέμα (κάποιες λέξεις σχετικά με το genre κοινές)\n",
        "prolog.assertz('''(same_genre5(X, Y):- genre(X, G1), genre(Y, G1), genre(X, G2), genre(Y, G2), \n",
        "                                       genre(X, G3), genre(Y, G3), genre(X, G4), genre(Y, G4), \n",
        "                                       genre(X, G5), genre(Y, G5), X\\=Y, G1\\=G2, G1\\=G3, G1\\=G4, G2\\=G3, G2\\=G4, G3\\=G4)''')\n",
        "\n",
        "# 2. Αρκετά κοινό θέμα (κάποιες λιγότερες λέξεις σχετικά με το genre κοινές π.χ. 3)\n",
        "prolog.assertz('''(same_genre3(X, Y):- genre(X, G1), genre(Y, G1), genre(X, G2), genre(Y, G2), \n",
        "                                       genre(X, G3), genre(Y, G3), X\\=Y, G1\\=G2, G2\\=G3, G1\\=G3, \\+ same_genre5(X, Y))''')\n",
        "\n",
        "# 3. Σχετικά κοινό θέμα (λίγες λέξεις σχετικές με το genre κοινές π.χ. 1)\n",
        "prolog.assertz('''(same_genre1(X, Y):- genre(X, G1), genre(Y, G1), X\\=Y, \\+ same_genre3(X, Y), \\+ same_genre5(X, Y))''')\n",
        "\n",
        "# 4. Κοινός σκηνοθέτης\n",
        "prolog.assertz('''(same_director(X,Y) :- director(X, G1), director(Y, G1), X\\=Y)''')\n",
        "\n",
        "# 5. Ακριβώς ίδια πλοκή (κάποιες λέξεις κλειδιά της πλοκής κοινές)\n",
        "prolog.assertz('''(same_plot5(X, Y):- plot(X, G1), plot(Y, G1), plot(X, G2), plot(Y, G2), \n",
        "                                      plot(X, G3), plot(Y, G3), plot(X, G4), plot(Y, G4), \n",
        "                                      plot(X, G5), plot(Y, G5), X\\=Y, G1\\=G2, G1\\=G3, G1\\=G4, G2\\=G3, G2\\=G4, G3\\=G4)''')\n",
        "\n",
        "# 6. Σχετικά ίδια πλοκή (κάποιες λιγότερες λέξεις κλειδιά κοινές)\n",
        "prolog.assertz('''(same_plot3(X, Y):- plot(X, G1), plot(Y, G1), plot(X, G2), plot(Y, G2), \n",
        "                                      plot(X, G3), plot(Y, G3), X\\=Y, G1\\=G2, G2\\=G3, G1\\=G3, \\+ same_plot5(X, Y))''')\n",
        "\n",
        "prolog.assertz('''(same_plot1(X, Y):- plot(X, G1), plot(Y, G1), X\\=Y, \\+ same_plot3(X, Y), \\+ same_plot5(X, Y))''')\n",
        "\n",
        "# 7. Ίδιους τους βασικούς ηθοποιούς (και τους 3)\n",
        "prolog.assertz('''(same_actor3(X, Y):- actor(X, G1), actor(Y, G1), actor(X, G2), actor(Y, G2), \n",
        "                                       actor(X, G3), actor(Y, G3), X\\=Y, G1\\=G2, G2\\=G3, G1\\=G3)''')\n",
        "\n",
        "# 8. Αρκετά ίδιους βασικούς ηθοποιούς (ορισμένους βασικούς ηθοποιούς κοινούς π.χ. 2)\n",
        "prolog.assertz('''(same_actor2(X, Y):- actor(X, G1), actor(Y, G1), actor(X, G2), actor(Y, G2), \n",
        "                                       X\\=Y, G1\\=G2, \\+ same_actor3(X, Y))''')\n",
        "\n",
        "# 9. Σχετικά ίδιους ηθοποιούς (π.χ. 1 από τους 3)\n",
        "prolog.assertz('''(same_actor1(X, Y):- actor(X, G1), actor(Y, G1), X\\=Y, \\+ same_actor2(X, Y), \\+ same_actor3(X, Y))''')\n",
        "\n",
        "# 10. Ίδια γλώσσα\n",
        "prolog.assertz('''(same_language(X, Y):- language(X, G1), language(Y, G1), X\\=Y)''')\n",
        "\n",
        "# 11. Είναι έγχρωμες ή ασπρόμαυρες\n",
        "#Πρώτα ορίζουμε την έγχρωμη και την ασπρόμαυρη ταινία με βάση τις πληροφορίες του plot_keyword\n",
        "prolog.assertz('''(color(M, 'black-white') :- plot(M, KeyWord), sub_string(KeyWord, _, _, _, 'black and white'))''')\n",
        "prolog.assertz('''(color(M, 'color') :- \\+(color(M, 'black-white')))''')\n",
        "#Έπειτα βρίσκουμε τις ταινίες με το ίδιο χρώμα\n",
        "prolog.assertz('''(same_color(X, Y):- movie(Y), color(X, G1), color(Y, G1), X\\=Y)''')\n",
        "\n",
        "#12. Ίδιες εταιρείες παραγωγής \n",
        "prolog.assertz('''(same_production_companies(X, Y):- production_companies(X, G1), production_companies(Y, G1), X\\=Y)''')\n",
        "\n",
        "#13. Ίδιες χώρες παραγωγής \n",
        "prolog.assertz('''(same_production_countries(X, Y):- production_countries(X, G1), production_countries(Y, G1), X\\=Y)''')"
      ]
    },
    {
      "cell_type": "markdown",
      "metadata": {
        "id": "VVoZ-Mp5w5Km"
      },
      "source": [
        "## **1Γ: Εκτέλεση Ερωτημάτων**\n",
        "Δημιουργούμε τη συνάρτηση movie_statistics προκειμένου να παίρνουμε ταυτόχρονα όλες τις πληροφορίες για μια ταινία.\n",
        "Επειδή ο χώρος δεν επαρκεί για αναλυτική παρουσίαση των όμοιων ταινιών ανά κατηγορία, επιλέξαμε να τυπώνουμε μόνο το πλήθος τους."
      ]
    },
    {
      "cell_type": "code",
      "execution_count": null,
      "metadata": {
        "id": "g92mUP_ew5Kn"
      },
      "outputs": [],
      "source": [
        "def  movie_statistics(movie):\n",
        "    print('Selected Movie: ' + movie)\n",
        "\n",
        "    s = set()\n",
        "    for soln in prolog.query(\"same_genre5('\" + movie + \"', Y)\"): s.add(soln['Y'])\n",
        "    print('    No of same_genre5: ', len(s))\n",
        "\n",
        "    s = set()\n",
        "    for soln in prolog.query(\"same_genre3('\" + movie + \"', Y)\"): s.add(soln['Y'])\n",
        "    print('    No of same_genre3: ',len(s))\n",
        "\n",
        "    s = set()\n",
        "    for soln in prolog.query(\"same_genre1('\" + movie + \"', Y)\"): s.add(soln['Y'])\n",
        "    print('    No of same_genre1: ',len(s))\n",
        "\n",
        "    s = set()\n",
        "    for soln in prolog.query(\"same_director('\" + movie + \"', Y)\"): s.add(soln['Y'])\n",
        "    print('    No of same_director: ',len(s))\n",
        "\n",
        "    s = set()\n",
        "    for soln in prolog.query(\"same_plot5('\" + movie + \"', Y)\"): s.add(soln['Y'])\n",
        "    print('    No of same_plot5: ',len(s))\n",
        "\n",
        "    s = set()\n",
        "    for soln in prolog.query(\"same_plot3('\" + movie + \"', Y)\"): s.add(soln['Y'])\n",
        "    print('    No of same_plot3: ',len(s))\n",
        "    \n",
        "    s = set()\n",
        "    for soln in prolog.query(\"same_plot1('\" + movie + \"', Y)\"): s.add(soln['Y'])\n",
        "    print('    No of same_plot1: ',len(s))\n",
        "\n",
        "    s = set()\n",
        "    for soln in prolog.query(\"same_actor3('\" + movie + \"', Y)\"): s.add(soln['Y'])\n",
        "    print('    No of same_actor3: ',len(s))\n",
        "\n",
        "    s = set()\n",
        "    for soln in prolog.query(\"same_actor2('\" + movie + \"', Y)\"): s.add(soln['Y'])\n",
        "    print('    No of same_actor2: ',len(s))\n",
        "\n",
        "    s = set()\n",
        "    for soln in prolog.query(\"same_actor1('\" + movie + \"', Y)\"): s.add(soln['Y'])\n",
        "    print('    No of same_actor1: ',len(s))\n",
        "\n",
        "    s = set()\n",
        "    for soln in prolog.query(\"same_language('\" + movie + \"', Y)\"): s.add(soln['Y'])\n",
        "    print('    No of same_language: ',len(s))\n",
        "    \n",
        "    s = set()\n",
        "    for soln in prolog.query(\"same_color('\" + movie + \"', Y)\"): s.add(soln['Y'])\n",
        "    print('    No of same_color: ',len(s))\n",
        "    \n",
        "    s = set()\n",
        "    for soln in prolog.query(\"same_production_companies('\" + movie + \"', Y)\"): s.add(soln['Y'])\n",
        "    print('    No of same_production_companies: ',len(s))\n",
        "\n",
        "    s = set()\n",
        "    for soln in prolog.query(\"same_production_countries('\" + movie + \"', Y)\"): s.add(soln['Y'])\n",
        "    print('    No of same_production_countries: ',len(s))\n",
        "    \n",
        "    print()"
      ]
    },
    {
      "cell_type": "code",
      "execution_count": null,
      "metadata": {
        "id": "6sXC8muKw5Kn",
        "outputId": "fda58d55-c3c5-4391-ba0d-f47772f98be1"
      },
      "outputs": [
        {
          "name": "stdout",
          "output_type": "stream",
          "text": [
            "Selected Movie: Avatar\n",
            "    No of same_genre5:  28\n",
            "    No of same_genre3:  209\n",
            "    No of same_genre1:  1590\n",
            "    No of same_director:  6\n",
            "    No of same_plot5:  1\n",
            "    No of same_plot3:  7\n",
            "    No of same_plot1:  346\n",
            "    No of same_actor3:  0\n",
            "    No of same_actor2:  0\n",
            "    No of same_actor1:  20\n",
            "    No of same_language:  4099\n",
            "    No of same_color:  4790\n",
            "    No of same_production_companies:  265\n",
            "    No of same_production_countries:  4212\n",
            "\n",
            "Selected Movie: King Kong\n",
            "    No of same_genre5:  0\n",
            "    No of same_genre3:  95\n",
            "    No of same_genre1:  3250\n",
            "    No of same_director:  8\n",
            "    No of same_plot5:  0\n",
            "    No of same_plot3:  2\n",
            "    No of same_plot1:  110\n",
            "    No of same_actor3:  0\n",
            "    No of same_actor2:  0\n",
            "    No of same_actor1:  21\n",
            "    No of same_language:  4099\n",
            "    No of same_color:  4790\n",
            "    No of same_production_companies:  320\n",
            "    No of same_production_countries:  4039\n",
            "\n",
            "Selected Movie: Inception\n",
            "    No of same_genre5:  73\n",
            "    No of same_genre3:  333\n",
            "    No of same_genre1:  1970\n",
            "    No of same_director:  7\n",
            "    No of same_plot5:  0\n",
            "    No of same_plot3:  0\n",
            "    No of same_plot1:  134\n",
            "    No of same_actor3:  0\n",
            "    No of same_actor2:  0\n",
            "    No of same_actor1:  13\n",
            "    No of same_language:  4099\n",
            "    No of same_color:  4790\n",
            "    No of same_production_companies:  330\n",
            "    No of same_production_countries:  4212\n",
            "\n"
          ]
        }
      ],
      "source": [
        "movie_statistics('Avatar')\n",
        "movie_statistics('King Kong')\n",
        "movie_statistics('Inception')"
      ]
    },
    {
      "cell_type": "markdown",
      "metadata": {
        "id": "ibe9jBk24rUd"
      },
      "source": [
        "# **2ο Μέρος: Recommendation System με βάση μόνο τα χαρακτηριστικά των ταινιών.**\n",
        "\n",
        "Στο σημείο αυτό με βάση τους κανόνες που κατασκευάστηκαν στο Μέρος 1 θα κατασκευαστούν κατηγορήματα για την ομοιότητα ταινιών. Παρακάτω δίνεται ένα μικρό παράδειγμα ενός κανόνα και πώς αυτός θα μπορούσε να γραφτεί μέσω του Pyswip. Επίσης όπως αναφέρεται και σε σχόλιο παραπάνω θα μπορεί να γραφτεί και μια βάση δεδομένων με τους κανόνες και να γίνει απευθείας consult.\n",
        "\n",
        "Στο παρακάτω παράδειγμα το 5 και το 4 εκφράζουν την ομοιότητα των ταινιών π.χ. οι ταινίες που παράγονται μέσω του find_similar_5 είναι πιο όμοιες από αυτές που παράγονται μέσω του find_similar_4. "
      ]
    },
    {
      "cell_type": "code",
      "execution_count": null,
      "metadata": {
        "id": "hVfcBBpd4rUd"
      },
      "outputs": [],
      "source": [
        "prolog.assertz('''(find_sim_5(X, Y):- same_language(X,Y),\n",
        "                                      same_production_countries(X,Y),\n",
        "                                      same_production_companies(X,Y),\n",
        "                                      (same_genre5(X,Y) ; same_plot5(X,Y) ;  same_actor3(X,Y))   )''') \n",
        "\n",
        "prolog.assertz('''(find_sim_4(X, Y):- same_language(X,Y),\n",
        "                                      (same_production_countries(X,Y) ;  same_production_companies(X,Y)),\n",
        "                                      (same_genre3(X,Y) ; same_plot3(X,Y) ; same_actor2(X,Y)),\n",
        "                                      not(find_sim_5(X, Y))    )''')\n",
        "\n",
        "prolog.assertz('''(find_sim_3(X, Y):- same_language(X,Y),\n",
        "                                      (same_genre3(X,Y) ; same_plot3(X,Y) ; same_actor1(X,Y) ; same_director(X,Y)),\n",
        "                                      not(find_sim_4(X, Y))    )''')\n",
        "\n",
        "prolog.assertz('''(find_sim_2(X, Y):- same_language(X,Y),\n",
        "                                      (same_genre1(X,Y), same_plot1(X,Y)),\n",
        "                                      not(find_sim_3(X, Y))    )''')\n",
        "\n",
        "prolog.assertz('''(find_sim_1(X, Y):- (same_genre1(X,Y) ; same_plot1(X,Y)),\n",
        "                                      not(find_sim_2(X, Y))    )''')\n"
      ]
    },
    {
      "cell_type": "code",
      "execution_count": null,
      "metadata": {
        "id": "bh_jfhPC4rUd"
      },
      "outputs": [],
      "source": [
        "def simple_recommender(movie):\n",
        "    \n",
        "    ans0 = set()\n",
        "    ans5 = set()\n",
        "    for soln in prolog.query(\"find_sim_5('\" + movie +\"',M)\"):\n",
        "        ans5.add(soln[\"M\"])\n",
        "        ans0.add(soln[\"M\"])\n",
        "     \n",
        "    ans4 = set()\n",
        "    for soln in prolog.query(\"find_sim_4('\" + movie +\"',M)\"):\n",
        "        if soln[\"M\"] not in ans0:\n",
        "            ans4.add(soln[\"M\"])\n",
        "            ans0.add(soln[\"M\"])\n",
        "\n",
        "    ans3 = set()\n",
        "    for soln in prolog.query(\"find_sim_3('\" + movie +\"',M)\"):\n",
        "        if soln[\"M\"] not in ans0:\n",
        "            ans3.add(soln[\"M\"])\n",
        "            ans0.add(soln[\"M\"])\n",
        "\n",
        "    ans2 = set()\n",
        "    for soln in prolog.query(\"find_sim_2('\" + movie +\"',M)\"):\n",
        "        if soln[\"M\"] not in ans0:\n",
        "            ans2.add(soln[\"M\"])\n",
        "            ans0.add(soln[\"M\"])\n",
        "\n",
        "    ans1 = set()\n",
        "    for soln in prolog.query(\"find_sim_1('\" + movie +\"',M)\"):\n",
        "        if soln[\"M\"] not in ans0:\n",
        "            ans1.add(soln[\"M\"])\n",
        "            ans0.add(soln[\"M\"])\n",
        "    \n",
        "    #κάνουμε κάποιο Processing στα παραπάνω αποτελέσματα και επιστρέφουμε τις \"όμοιες\" ταινίες με φθίνουσα σειρά\n",
        "    return list(ans5), list(ans4), list(ans3), list(ans2), list(ans1)"
      ]
    },
    {
      "cell_type": "code",
      "execution_count": null,
      "metadata": {
        "id": "Ug_L_Qx-4rUd",
        "outputId": "85c8281f-8ab4-4de4-dbfd-3c863b89c4ae"
      },
      "outputs": [
        {
          "name": "stdout",
          "output_type": "stream",
          "text": [
            "Selected Movie: Avatar\n",
            "find_sim 5 :  6\n",
            "find_sim 4 :  181\n",
            "find_sim 3 :  29\n",
            "find_sim 2 :  163\n",
            "find_sim 1 :  1517\n",
            "\n",
            "Selected Movie: King King\n",
            "find_sim 5 :  0\n",
            "find_sim 4 :  70\n",
            "find_sim 3 :  38\n",
            "find_sim 2 :  61\n",
            "find_sim 1 :  3196\n",
            "\n",
            "Selected Movie: Inception\n",
            "find_sim 5 :  9\n",
            "find_sim 4 :  282\n",
            "find_sim 3 :  30\n",
            "find_sim 2 :  63\n",
            "find_sim 1 :  1943\n"
          ]
        }
      ],
      "source": [
        "a = list(simple_recommender('Avatar'))\n",
        "print('Selected Movie: Avatar')\n",
        "for i in range(5):\n",
        "    print(\"find_sim\",5-i,\": \", len(a[i]))\n",
        "print()\n",
        "print('Selected Movie: King King')\n",
        "a = list(simple_recommender('King Kong'))\n",
        "for i in range(5):\n",
        "    print(\"find_sim\",5-i,\": \", len(a[i]))\n",
        "print() \n",
        "print('Selected Movie: Inception')\n",
        "a = list(simple_recommender('Inception'))\n",
        "for i in range(5):\n",
        "    print(\"find_sim\",5-i,\": \", len(a[i]))"
      ]
    },
    {
      "cell_type": "markdown",
      "metadata": {
        "id": "YjpTwOuO4rUd"
      },
      "source": [
        "# **3ο Μέρος: Recommendation System Με βάση τις προτιμήσεις-Αξιολογήσεις του χρήστη-Εκπαίδευση και Πρόβλεψη**\n",
        "\n",
        "\n",
        "Αρχικά μελετάμε τις αξιολογήσεις κάθε χρήστη για να καταλάβουμε την δομή και τις πληροφορίες κάθε αρχείου.\n",
        "\n",
        "\n"
      ]
    },
    {
      "cell_type": "code",
      "execution_count": null,
      "metadata": {
        "id": "lL9P3GOd4rUe"
      },
      "outputs": [],
      "source": [
        "from tqdm.notebook import tqdm\n",
        "from sklearn.metrics import precision_score, recall_score, f1_score\n",
        "\n",
        "\n",
        "rating_weights = {0: -1, 1: -0.5, 2:0, 3:0, 4:0.5, 5:1}\n",
        "score_weights = {i:i + 1 for i in range(5)} # ανάλογα με τα επίπεδα ομοιότητας που έχουν οριστεί στην simple_recommender\n",
        "\n",
        "def train_recommender(ratings, rating_weights, score_weights, start=0, end = -1, movie_score = {}):\n",
        "    \"\"\"\n",
        "    Στην συνάρτηση αυτή μπορούμε να ορίζουμε ποιο υποσύνολο των αξιολογήσεων θα χρησιμοποιήσουμε για το train,\n",
        "    ενώ παράλληλα μπορούμε να αρχικοποιήσουμε και το movie_score το οποίο αποθηκεύονται τα score κάθε ταινίας.\n",
        "    Έτσι αν έχουμε κάνει train τον recommender μας για τις πρώτες 10 ταινίες, μπορούμε να συνεχίσουμε για τις \n",
        "    υπόλοιπες χωρίς κάθε φορά να ξανά-διαμορφώνουμε το score για αυτές. Αυτό θα σας βοηθήσει στην εκτέλεση και χρονικά όταν ελέγχετε την \n",
        "    απόδοση σε υποσύνολα των ratings π.χ. πρώτες 10 ταινίες έπειτα τις επόμενες 20 κ.ο.κ.\n",
        "    \"\"\"\n",
        "    if end == -1:\n",
        "        end = len(ratings)\n",
        "\n",
        "    ratings = ratings.iloc[range(start, end)]\n",
        "    for row in tqdm(ratings.itertuples(index=True, name='Pandas')):\n",
        "        movie = clean_text(getattr(row, 'movie_title'))\n",
        "        rating = getattr(row, 'rating')\n",
        "\n",
        "        similar_movies = simple_recommender(movie)\n",
        "        similar_movies = similar_movies[::-1]\n",
        "        \n",
        "        for i in range(5):\n",
        "            for similar_movie in similar_movies[i]:\n",
        "                if similar_movie not in movie_score:\n",
        "                    movie_score[similar_movie] = rating_weights[int(rating)] * score_weights[0]\n",
        "                else:\n",
        "                    movie_score[similar_movie] += rating_weights[int(rating)] * score_weights[i] #το weight θα το ορίσετε ανα επίπεδο ομοιότητας οι πολύ όμοιες ταινίες θα έχουν μεγαλύτερο βάρος\n",
        "    return movie_score\n",
        "\n",
        "\n",
        "#αυτό είναι ένα παράδειγμα για το πως θα μπορούσε να υλοποιήθει η predict\n",
        "#έχουμε ορίσει ότι μια ταινία θα έπρεπε να είναι προτεινόμενη αν είχε σκορ > 0\n",
        "def predict_example(ratings, movie_score):\n",
        "    real, pred = [], []\n",
        "    for i, row in enumerate(ratings.itertuples(index=True, name='Pandas')):\n",
        "        movie = clean_text(getattr(row, 'movie_title'))\n",
        "        rating = getattr(row, 'rating')\n",
        "\n",
        "        if movie in movie_score: #αν έχουμε σχηματίσει βαθμολογία για την ταινία αυτή\n",
        "            pred.append(int(movie_score[movie] > 0)) #heuristic για το αν μια ταινία είναι προτεινόμενη\n",
        "            real.append(int(rating > 3))# έτσι ορίζουμε ότι μια ταινία θα έπρεπε να είναι προτεινόμενη\n",
        "            #η συνθήκη αυτή δεν μπορεί να αλλάξει\n",
        "        else: #δεν μπορούμε να προτείνουμε κάτι για το όποιο δεν έχουμε σχηματίσει εικόνα\n",
        "            pred.append(0)\n",
        "            real.append(int(rating > 3))\n",
        "\n",
        "    return real, pred\n",
        "\n",
        "\n",
        "def get_metrics(real, pred):\n",
        "    metrics = {}\n",
        "    metrics[\"precision\"] = precision_score(real, pred)\n",
        "    metrics[\"recall\"] = recall_score(real, pred)\n",
        "    metrics[\"f1\"] = f1_score(real, pred)\n",
        "    return metrics"
      ]
    },
    {
      "cell_type": "code",
      "execution_count": null,
      "metadata": {
        "id": "tnIDJLJX4rUe"
      },
      "outputs": [],
      "source": [
        "train_ratings = pd.read_csv(\"train_ratings.csv\")\n",
        "test_ratings = pd.read_csv(\"test_ratings.csv\")"
      ]
    },
    {
      "cell_type": "code",
      "execution_count": null,
      "metadata": {
        "id": "IurBJXyA4rUe",
        "colab": {
          "referenced_widgets": [
            "f688f74ef7ab49abb8efad0659862251"
          ]
        },
        "outputId": "2cae131c-1b59-4548-c0df-84bafc654607"
      },
      "outputs": [
        {
          "data": {
            "application/vnd.jupyter.widget-view+json": {
              "model_id": "f688f74ef7ab49abb8efad0659862251",
              "version_major": 2,
              "version_minor": 0
            },
            "text/plain": [
              "|          | 0/? [00:00<?, ?it/s]"
            ]
          },
          "metadata": {},
          "output_type": "display_data"
        },
        {
          "name": "stdout",
          "output_type": "stream",
          "text": [
            "{'precision': 0.49557522123893805, 'recall': 0.7777777777777778, 'f1': 0.6054054054054053}\n"
          ]
        }
      ],
      "source": [
        "movie_score = train_recommender(train_ratings, rating_weights, score_weights, 0, 10)\n",
        "real, pred = predict_example(test_ratings, movie_score)\n",
        "print (get_metrics(real, pred))"
      ]
    },
    {
      "cell_type": "code",
      "execution_count": null,
      "metadata": {
        "id": "xmxaauVc4rUe",
        "colab": {
          "referenced_widgets": [
            "d6d86b42121d4e9b9a9fd6c7efdc7a8a"
          ]
        },
        "outputId": "872ebbe6-e27c-4af7-f37a-615551bafd42"
      },
      "outputs": [
        {
          "data": {
            "application/vnd.jupyter.widget-view+json": {
              "model_id": "d6d86b42121d4e9b9a9fd6c7efdc7a8a",
              "version_major": 2,
              "version_minor": 0
            },
            "text/plain": [
              "|          | 0/? [00:00<?, ?it/s]"
            ]
          },
          "metadata": {},
          "output_type": "display_data"
        },
        {
          "name": "stdout",
          "output_type": "stream",
          "text": [
            "{'precision': 0.5111111111111111, 'recall': 0.9583333333333334, 'f1': 0.6666666666666666}\n"
          ]
        }
      ],
      "source": [
        "movie_score = train_recommender(train_ratings, rating_weights, score_weights, 10, 20, movie_score)\n",
        "real, pred = predict_example(test_ratings, movie_score)\n",
        "print (get_metrics(real, pred))"
      ]
    },
    {
      "cell_type": "code",
      "execution_count": null,
      "metadata": {
        "id": "k3xVQlr44rUe",
        "colab": {
          "referenced_widgets": [
            "09d66487596b46e8833ea5089a98a973"
          ]
        },
        "outputId": "b0753289-7db9-4a23-8a50-0ef790bdcd64"
      },
      "outputs": [
        {
          "data": {
            "application/vnd.jupyter.widget-view+json": {
              "model_id": "09d66487596b46e8833ea5089a98a973",
              "version_major": 2,
              "version_minor": 0
            },
            "text/plain": [
              "|          | 0/? [00:00<?, ?it/s]"
            ]
          },
          "metadata": {},
          "output_type": "display_data"
        },
        {
          "name": "stdout",
          "output_type": "stream",
          "text": [
            "{'precision': 0.5073529411764706, 'recall': 0.9583333333333334, 'f1': 0.6634615384615384}\n"
          ]
        }
      ],
      "source": [
        "movie_score = train_recommender(train_ratings, rating_weights, score_weights, 20, 30, movie_score)\n",
        "real, pred = predict_example(test_ratings, movie_score)\n",
        "print (get_metrics(real, pred))"
      ]
    },
    {
      "cell_type": "code",
      "execution_count": null,
      "metadata": {
        "id": "xCNY4yFN4rUe",
        "colab": {
          "referenced_widgets": [
            "6298764c58224e6a80a04643f1f7cef3"
          ]
        },
        "outputId": "d007ce73-e31d-459c-a3dc-35e3ab807651"
      },
      "outputs": [
        {
          "data": {
            "application/vnd.jupyter.widget-view+json": {
              "model_id": "6298764c58224e6a80a04643f1f7cef3",
              "version_major": 2,
              "version_minor": 0
            },
            "text/plain": [
              "|          | 0/? [00:00<?, ?it/s]"
            ]
          },
          "metadata": {},
          "output_type": "display_data"
        },
        {
          "name": "stdout",
          "output_type": "stream",
          "text": [
            "{'precision': 0.5071428571428571, 'recall': 0.9861111111111112, 'f1': 0.6698113207547169}\n"
          ]
        }
      ],
      "source": [
        "movie_score = train_recommender(train_ratings, rating_weights, score_weights, 30, 50, movie_score)\n",
        "real, pred = predict_example(test_ratings, movie_score)\n",
        "print (get_metrics(real, pred))"
      ]
    },
    {
      "cell_type": "code",
      "execution_count": null,
      "metadata": {
        "id": "E1Qh4bUp4rUe",
        "colab": {
          "referenced_widgets": [
            "0d7bf54f600c421abb8c7df0d8c7281e"
          ]
        },
        "outputId": "50b594d6-328d-42a1-f61f-b215db0ac218"
      },
      "outputs": [
        {
          "data": {
            "application/vnd.jupyter.widget-view+json": {
              "model_id": "0d7bf54f600c421abb8c7df0d8c7281e",
              "version_major": 2,
              "version_minor": 0
            },
            "text/plain": [
              "|          | 0/? [00:00<?, ?it/s]"
            ]
          },
          "metadata": {},
          "output_type": "display_data"
        }
      ],
      "source": [
        "movie_score = train_recommender(train_ratings, rating_weights, score_weights,start = 50, movie_score= movie_score)\n",
        "real, pred = predict_example(test_ratings, movie_score)\n",
        "print (get_metrics(real, pred))"
      ]
    },
    {
      "cell_type": "markdown",
      "source": [
        "**END**"
      ],
      "metadata": {
        "id": "lJMATnH_zA3_"
      }
    }
  ],
  "metadata": {
    "colab": {
      "provenance": []
    },
    "kernelspec": {
      "display_name": "Python 3",
      "language": "python",
      "name": "python3"
    },
    "language_info": {
      "codemirror_mode": {
        "name": "ipython",
        "version": 3
      },
      "file_extension": ".py",
      "mimetype": "text/x-python",
      "name": "python",
      "nbconvert_exporter": "python",
      "pygments_lexer": "ipython3",
      "version": "3.9.1"
    }
  },
  "nbformat": 4,
  "nbformat_minor": 0
}