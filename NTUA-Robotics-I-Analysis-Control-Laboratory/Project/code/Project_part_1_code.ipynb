{
  "cells": [
    {
      "cell_type": "markdown",
      "metadata": {
        "id": "GH7HXY1LfAal"
      },
      "source": [
        "# Robotics I: Analysis - Control - Lab\n",
        "### *ECE NTUA, Flow S, 7th Semester, 2021-2022*\n",
        "## **Project Assignment: *Robotic Leg Mechanism with 3 rotational DoF***\n",
        "### *Complimentary & Auxiliary Code*\n",
        "\n",
        "##### Name | AM: Christos Tsoufis | 031 17 176"
      ]
    },
    {
      "cell_type": "markdown",
      "metadata": {
        "id": "haqfyrICfStL"
      },
      "source": [
        "### Installation of Libraries and Necessary Packages"
      ]
    },
    {
      "cell_type": "code",
      "execution_count": 36,
      "metadata": {
        "id": "ooQjyGDNeg6L"
      },
      "outputs": [],
      "source": [
        "from sympy import *\n",
        "import numpy as np\n",
        "import numpy as pr\n",
        "import math"
      ]
    },
    {
      "cell_type": "markdown",
      "metadata": {
        "id": "_zmItZcVfWx6"
      },
      "source": [
        "#### Declaration of Variables"
      ]
    },
    {
      "cell_type": "code",
      "execution_count": 2,
      "metadata": {
        "colab": {
          "base_uri": "https://localhost:8080/"
        },
        "id": "Mi2TPki0fXSv",
        "outputId": "f84e8bd5-0b70-4bb7-c9ed-90feacef5631"
      },
      "outputs": [
        {
          "data": {
            "text/plain": [
              "(s1,\n",
              " s2,\n",
              " s3,\n",
              " c1,\n",
              " c2,\n",
              " c3,\n",
              " l0,\n",
              " l1,\n",
              " l2,\n",
              " l3,\n",
              " c12,\n",
              " c23,\n",
              " s12,\n",
              " s23,\n",
              " nx,\n",
              " ny,\n",
              " nz,\n",
              " ox,\n",
              " oy,\n",
              " oz,\n",
              " ax,\n",
              " ay,\n",
              " az,\n",
              " px,\n",
              " py,\n",
              " pz)"
            ]
          },
          "execution_count": 2,
          "metadata": {},
          "output_type": "execute_result"
        }
      ],
      "source": [
        "var('s1 s2 s3 c1 c2 c3 l0 l1 l2 l3 c12 c23 s12 s23 nx ny nz ox oy oz ax ay az px py pz')"
      ]
    },
    {
      "cell_type": "markdown",
      "metadata": {
        "id": "9QXc_xPs7T0q"
      },
      "source": [
        "## Question 1\n",
        "\n",
        "This question has been answered on the report."
      ]
    },
    {
      "cell_type": "markdown",
      "metadata": {
        "id": "263mgrmz7aJW"
      },
      "source": [
        "## Question 2"
      ]
    },
    {
      "cell_type": "code",
      "execution_count": 3,
      "metadata": {
        "id": "zCE8uHQH5WDR"
      },
      "outputs": [],
      "source": [
        "A_0_1 = Matrix([[s1, 0, -c1, 0],\n",
        "                [-c1, 0, -s1, 0],\n",
        "                [0, 1, 0, l0],\n",
        "                [0, 0, 0, 1]])\n",
        "\n",
        "A_1_2 = Matrix([[-s2, -c2, 0, -l2*s2],\n",
        "                [c2, -s2, 0, l2*c2],\n",
        "                [0, 0, 1, -l1],\n",
        "                [0, 0, 0, 1]])\n",
        "\n",
        "A_2_3 = Matrix([[s3, 0, c3, l3*s3],\n",
        "                [-c3, 0, s3, -l3*c3],\n",
        "                [0, -1, 0, 0],\n",
        "                [0, 0, 0, 1]])\n",
        "\n",
        "A_3_E = Matrix([[0, -1, 0, 0],\n",
        "                [1, 0, 0, 0],\n",
        "                [0, 0, 1, 0],\n",
        "                [0, 0, 0, 1]])"
      ]
    },
    {
      "cell_type": "markdown",
      "metadata": {
        "id": "xv9amFIOfpSA"
      },
      "source": [
        "#### The following cell calculates the multiplication of Matrices $A_1$<sup>0</sup> & $A_2$<sup>1</sup> and gives $A_2$<sup>0</sup>"
      ]
    },
    {
      "cell_type": "code",
      "execution_count": 4,
      "metadata": {
        "colab": {
          "base_uri": "https://localhost:8080/",
          "height": 98
        },
        "id": "2gUfkeQffrDe",
        "outputId": "9e2fa2e3-c067-4809-f49c-d0e401e3a4c6"
      },
      "outputs": [
        {
          "data": {
            "text/latex": [
              "$\\displaystyle \\left[\\begin{matrix}- s_{1} s_{2} & - c_{2} s_{1} & - c_{1} & c_{1} l_{1} - l_{2} s_{1} s_{2}\\\\c_{1} s_{2} & c_{1} c_{2} & - s_{1} & c_{1} l_{2} s_{2} + l_{1} s_{1}\\\\c_{2} & - s_{2} & 0 & c_{2} l_{2} + l_{0}\\\\0 & 0 & 0 & 1\\end{matrix}\\right]$"
            ],
            "text/plain": [
              "Matrix([\n",
              "[-s1*s2, -c2*s1, -c1, c1*l1 - l2*s1*s2],\n",
              "[ c1*s2,  c1*c2, -s1, c1*l2*s2 + l1*s1],\n",
              "[    c2,    -s2,   0,       c2*l2 + l0],\n",
              "[     0,      0,   0,                1]])"
            ]
          },
          "execution_count": 4,
          "metadata": {},
          "output_type": "execute_result"
        }
      ],
      "source": [
        "A_0_2 = A_0_1.multiply(A_1_2)\n",
        "\n",
        "A_0_2"
      ]
    },
    {
      "cell_type": "markdown",
      "metadata": {
        "id": "BOgxsJjog72c"
      },
      "source": [
        "#### The following cell calculates the multiplication of Matrices $A_2$<sup>0</sup> $A_3$<sup>2</sup> and gives $A_3$<sup>0</sup>"
      ]
    },
    {
      "cell_type": "code",
      "execution_count": 5,
      "metadata": {
        "colab": {
          "base_uri": "https://localhost:8080/",
          "height": 98
        },
        "id": "1y0U_7EHg8YC",
        "outputId": "94329a66-5cf7-4588-ab98-070593470d76"
      },
      "outputs": [
        {
          "data": {
            "text/latex": [
              "$\\displaystyle \\left[\\begin{matrix}c_{2} c_{3} s_{1} - s_{1} s_{2} s_{3} & c_{1} & - c_{2} s_{1} s_{3} - c_{3} s_{1} s_{2} & c_{1} l_{1} + c_{2} c_{3} l_{3} s_{1} - l_{2} s_{1} s_{2} - l_{3} s_{1} s_{2} s_{3}\\\\- c_{1} c_{2} c_{3} + c_{1} s_{2} s_{3} & s_{1} & c_{1} c_{2} s_{3} + c_{1} c_{3} s_{2} & - c_{1} c_{2} c_{3} l_{3} + c_{1} l_{2} s_{2} + c_{1} l_{3} s_{2} s_{3} + l_{1} s_{1}\\\\c_{2} s_{3} + c_{3} s_{2} & 0 & c_{2} c_{3} - s_{2} s_{3} & c_{2} l_{2} + c_{2} l_{3} s_{3} + c_{3} l_{3} s_{2} + l_{0}\\\\0 & 0 & 0 & 1\\end{matrix}\\right]$"
            ],
            "text/plain": [
              "Matrix([\n",
              "[ c2*c3*s1 - s1*s2*s3, c1, -c2*s1*s3 - c3*s1*s2,  c1*l1 + c2*c3*l3*s1 - l2*s1*s2 - l3*s1*s2*s3],\n",
              "[-c1*c2*c3 + c1*s2*s3, s1,  c1*c2*s3 + c1*c3*s2, -c1*c2*c3*l3 + c1*l2*s2 + c1*l3*s2*s3 + l1*s1],\n",
              "[       c2*s3 + c3*s2,  0,        c2*c3 - s2*s3,              c2*l2 + c2*l3*s3 + c3*l3*s2 + l0],\n",
              "[                   0,  0,                    0,                                             1]])"
            ]
          },
          "execution_count": 5,
          "metadata": {},
          "output_type": "execute_result"
        }
      ],
      "source": [
        "A_0_3 = A_0_2.multiply(A_2_3)\n",
        "\n",
        "A_0_3"
      ]
    },
    {
      "cell_type": "markdown",
      "metadata": {
        "id": "lcIDOCCriP2V"
      },
      "source": [
        "#### The following cell calculates the multiplication of Matrices $A_3$<sup>0</sup> $A_E$<sup>3</sup> and gives $A_E$<sup>0</sup>"
      ]
    },
    {
      "cell_type": "code",
      "execution_count": 6,
      "metadata": {
        "colab": {
          "base_uri": "https://localhost:8080/",
          "height": 98
        },
        "id": "gLp-zXt6n8EU",
        "outputId": "88ea2084-1139-49e5-fcf7-5782c454a017"
      },
      "outputs": [
        {
          "data": {
            "text/latex": [
              "$\\displaystyle \\left[\\begin{matrix}c_{1} & - c_{2} c_{3} s_{1} + s_{1} s_{2} s_{3} & - c_{2} s_{1} s_{3} - c_{3} s_{1} s_{2} & c_{1} l_{1} + c_{2} c_{3} l_{3} s_{1} - l_{2} s_{1} s_{2} - l_{3} s_{1} s_{2} s_{3}\\\\s_{1} & c_{1} c_{2} c_{3} - c_{1} s_{2} s_{3} & c_{1} c_{2} s_{3} + c_{1} c_{3} s_{2} & - c_{1} c_{2} c_{3} l_{3} + c_{1} l_{2} s_{2} + c_{1} l_{3} s_{2} s_{3} + l_{1} s_{1}\\\\0 & - c_{2} s_{3} - c_{3} s_{2} & c_{2} c_{3} - s_{2} s_{3} & c_{2} l_{2} + c_{2} l_{3} s_{3} + c_{3} l_{3} s_{2} + l_{0}\\\\0 & 0 & 0 & 1\\end{matrix}\\right]$"
            ],
            "text/plain": [
              "Matrix([\n",
              "[c1, -c2*c3*s1 + s1*s2*s3, -c2*s1*s3 - c3*s1*s2,  c1*l1 + c2*c3*l3*s1 - l2*s1*s2 - l3*s1*s2*s3],\n",
              "[s1,  c1*c2*c3 - c1*s2*s3,  c1*c2*s3 + c1*c3*s2, -c1*c2*c3*l3 + c1*l2*s2 + c1*l3*s2*s3 + l1*s1],\n",
              "[ 0,       -c2*s3 - c3*s2,        c2*c3 - s2*s3,              c2*l2 + c2*l3*s3 + c3*l3*s2 + l0],\n",
              "[ 0,                    0,                    0,                                             1]])"
            ]
          },
          "execution_count": 6,
          "metadata": {},
          "output_type": "execute_result"
        }
      ],
      "source": [
        "A_0_E = A_0_3.multiply(A_3_E)\n",
        "\n",
        "A_0_E"
      ]
    },
    {
      "cell_type": "code",
      "execution_count": 7,
      "metadata": {
        "colab": {
          "base_uri": "https://localhost:8080/",
          "height": 98
        },
        "id": "2fG2_fJnMo8U",
        "outputId": "ca43846c-ab1d-423d-88af-f4bccc6a7179"
      },
      "outputs": [
        {
          "data": {
            "text/latex": [
              "$\\displaystyle \\left[\\begin{matrix}c_{1} & - c_{23} s_{1} & - s_{1} s_{23} & c_{1} l_{1} + c_{23} l_{3} s_{1} - l_{2} s_{1} s_{2}\\\\s_{1} & c_{1} c_{23} & c_{1} s_{23} & - c_{1} c_{23} l_{3} + c_{1} l_{2} s_{2} + l_{1} s_{1}\\\\0 & - s_{23} & c_{23} & c_{2} l_{2} + l_{0} + l_{3} s_{23}\\\\0 & 0 & 0 & 1\\end{matrix}\\right]$"
            ],
            "text/plain": [
              "Matrix([\n",
              "[c1, -c23*s1, -s1*s23,  c1*l1 + c23*l3*s1 - l2*s1*s2],\n",
              "[s1,  c1*c23,  c1*s23, -c1*c23*l3 + c1*l2*s2 + l1*s1],\n",
              "[ 0,    -s23,     c23,           c2*l2 + l0 + l3*s23],\n",
              "[ 0,       0,       0,                             1]])"
            ]
          },
          "execution_count": 7,
          "metadata": {},
          "output_type": "execute_result"
        }
      ],
      "source": [
        "A_0_E_new = Matrix([[c1, -c23*s1, -s1*s23, c1*l1-l2*s1*s2+l3*s1*c23],\n",
        "                    [s1, c1*c23, c1*s23, l1*s1+l2*c1*s2-l3*c1*c23],\n",
        "                    [0, -s23, c23, l0+l2*c2+l3*s23],\n",
        "                    [0, 0, 0, 1]])\n",
        "\n",
        "A_0_E_new"
      ]
    },
    {
      "cell_type": "markdown",
      "metadata": {
        "id": "x86nT5Iz7e91"
      },
      "source": [
        "## Question 3"
      ]
    },
    {
      "cell_type": "code",
      "execution_count": 8,
      "metadata": {
        "id": "n8vHpC3hMgyW"
      },
      "outputs": [],
      "source": [
        "r = Matrix([0, 0, 0, 1])"
      ]
    },
    {
      "cell_type": "markdown",
      "metadata": {
        "id": "G0eABMil8Jin"
      },
      "source": [
        "#### i = 1"
      ]
    },
    {
      "cell_type": "markdown",
      "metadata": {
        "id": "u0NIbKk7uaJo"
      },
      "source": [
        "#### The following cell calculates the $\\overrightarrow{r_{0,E}}$"
      ]
    },
    {
      "cell_type": "code",
      "execution_count": 9,
      "metadata": {
        "colab": {
          "base_uri": "https://localhost:8080/",
          "height": 98
        },
        "id": "b8WboQYCugwU",
        "outputId": "acc98203-cba1-482b-8d7d-69a2fde393e9"
      },
      "outputs": [
        {
          "data": {
            "text/latex": [
              "$\\displaystyle \\left[\\begin{matrix}c_{1} l_{1} + c_{23} l_{3} s_{1} - l_{2} s_{1} s_{2}\\\\- c_{1} c_{23} l_{3} + c_{1} l_{2} s_{2} + l_{1} s_{1}\\\\c_{2} l_{2} + l_{0} + l_{3} s_{23}\\\\1\\end{matrix}\\right]$"
            ],
            "text/plain": [
              "Matrix([\n",
              "[ c1*l1 + c23*l3*s1 - l2*s1*s2],\n",
              "[-c1*c23*l3 + c1*l2*s2 + l1*s1],\n",
              "[          c2*l2 + l0 + l3*s23],\n",
              "[                            1]])"
            ]
          },
          "execution_count": 9,
          "metadata": {},
          "output_type": "execute_result"
        }
      ],
      "source": [
        "r_0E = A_0_E_new.multiply(r)\n",
        "\n",
        "r_0E"
      ]
    },
    {
      "cell_type": "markdown",
      "metadata": {
        "id": "JvEUwVTKu6Re"
      },
      "source": [
        "#### The following cell calculates the cross product of Matrices $\\hat{b_0}\\times \\hat{r_{0,E}}$ and gives $J_{L_1}$"
      ]
    },
    {
      "cell_type": "code",
      "execution_count": 10,
      "metadata": {
        "colab": {
          "base_uri": "https://localhost:8080/",
          "height": 78
        },
        "id": "oqlPuR28u7Ra",
        "outputId": "57b6f644-ca3f-417c-d7e3-b63051edde43"
      },
      "outputs": [
        {
          "data": {
            "text/latex": [
              "$\\displaystyle \\left[\\begin{matrix}c_{1} c_{23} l_{3} - c_{1} l_{2} s_{2} - l_{1} s_{1}\\\\c_{1} l_{1} + c_{23} l_{3} s_{1} - l_{2} s_{1} s_{2}\\\\0\\end{matrix}\\right]$"
            ],
            "text/plain": [
              "Matrix([\n",
              "[c1*c23*l3 - c1*l2*s2 - l1*s1],\n",
              "[c1*l1 + c23*l3*s1 - l2*s1*s2],\n",
              "[                           0]])"
            ]
          },
          "execution_count": 10,
          "metadata": {},
          "output_type": "execute_result"
        }
      ],
      "source": [
        "b_0 = pr.array([0, 0, 1])\n",
        "\n",
        "r_0_E = pr.array([c1*l1-l2*s1*s2+l3*s1*c23,\n",
        "                  l1*s1+l2*c1*s2-l3*c1*c23,\n",
        "                  l0+l2*c2+l3*s23])\n",
        "\n",
        "JL1 = pr.cross(b_0, r_0_E)\n",
        "\n",
        "JL1_ = Matrix(JL1)\n",
        "\n",
        "JL1_"
      ]
    },
    {
      "cell_type": "markdown",
      "metadata": {
        "id": "KHcgljY38MiK"
      },
      "source": [
        "#### i = 2"
      ]
    },
    {
      "cell_type": "markdown",
      "metadata": {
        "id": "v7F0Qa8fuHGd"
      },
      "source": [
        "#### The following cell calculates the multiplication of Matrices $R_1$<sup>0</sup> $b$ and gives $\\hat{b_1}$"
      ]
    },
    {
      "cell_type": "code",
      "execution_count": 11,
      "metadata": {
        "colab": {
          "base_uri": "https://localhost:8080/",
          "height": 78
        },
        "id": "H-G-2wCzuIlb",
        "outputId": "b8f41478-c2b7-49b7-95a3-8d12f8409bfa"
      },
      "outputs": [
        {
          "data": {
            "text/latex": [
              "$\\displaystyle \\left[\\begin{matrix}- c_{1}\\\\- s_{1}\\\\0\\end{matrix}\\right]$"
            ],
            "text/plain": [
              "Matrix([\n",
              "[-c1],\n",
              "[-s1],\n",
              "[  0]])"
            ]
          },
          "execution_count": 11,
          "metadata": {},
          "output_type": "execute_result"
        }
      ],
      "source": [
        "b = Matrix([[0], [0], [1]])\n",
        "\n",
        "R_0_1 = Matrix([[s1, 0, -c1],\n",
        "                [-c1, 0, -s1],\n",
        "                [0, 1, 0]])\n",
        "\n",
        "b_1 = R_0_1.multiply(b)\n",
        "\n",
        "b_1"
      ]
    },
    {
      "cell_type": "markdown",
      "metadata": {
        "id": "F-3dbrIowyhk"
      },
      "source": [
        "#### The following cell calculates the $\\overrightarrow{r_{1,E}}$"
      ]
    },
    {
      "cell_type": "code",
      "execution_count": 12,
      "metadata": {
        "colab": {
          "base_uri": "https://localhost:8080/",
          "height": 98
        },
        "id": "550_7Kt0wzEX",
        "outputId": "f9f245a8-34a4-4ce7-e344-d6104140ae5a"
      },
      "outputs": [
        {
          "data": {
            "text/latex": [
              "$\\displaystyle \\left[\\begin{matrix}c_{1} l_{1} + c_{2} c_{3} l_{3} s_{1} - l_{2} s_{1} s_{2} - l_{3} s_{1} s_{2} s_{3}\\\\- c_{1} c_{2} c_{3} l_{3} + c_{1} l_{2} s_{2} + c_{1} l_{3} s_{2} s_{3} + l_{1} s_{1}\\\\c_{2} l_{2} + c_{2} l_{3} s_{3} + c_{3} l_{3} s_{2}\\\\0\\end{matrix}\\right]$"
            ],
            "text/plain": [
              "Matrix([\n",
              "[ c1*l1 + c2*c3*l3*s1 - l2*s1*s2 - l3*s1*s2*s3],\n",
              "[-c1*c2*c3*l3 + c1*l2*s2 + c1*l3*s2*s3 + l1*s1],\n",
              "[                  c2*l2 + c2*l3*s3 + c3*l3*s2],\n",
              "[                                            0]])"
            ]
          },
          "execution_count": 12,
          "metadata": {},
          "output_type": "execute_result"
        }
      ],
      "source": [
        "r_1E = A_0_E.multiply(r) - A_0_1.multiply(r)\n",
        "\n",
        "r_1E"
      ]
    },
    {
      "cell_type": "markdown",
      "metadata": {
        "id": "FCEvNY-Mw3-6"
      },
      "source": [
        "#### The following cell calculates the cross product of Matrices $\\hat{b_1}\\times \\hat{r_{1,E}}$ and gives $J_{L_2}$"
      ]
    },
    {
      "cell_type": "code",
      "execution_count": 13,
      "metadata": {
        "colab": {
          "base_uri": "https://localhost:8080/",
          "height": 78
        },
        "id": "05Xwmx8nw4mT",
        "outputId": "916dbdeb-edba-4219-d061-b40bf52b6885"
      },
      "outputs": [
        {
          "data": {
            "text/latex": [
              "$\\displaystyle \\left[\\begin{matrix}- s_{1} \\left(c_{2} l_{2} + l_{3} s_{23}\\right)\\\\c_{1} \\left(c_{2} l_{2} + l_{3} s_{23}\\right)\\\\- c_{1} \\left(- c_{1} c_{23} l_{3} + c_{1} l_{2} s_{2} + l_{1} s_{1}\\right) + s_{1} \\left(c_{1} l_{1} + c_{23} l_{3} s_{1} - l_{2} s_{1} s_{2}\\right)\\end{matrix}\\right]$"
            ],
            "text/plain": [
              "Matrix([\n",
              "[                                                   -s1*(c2*l2 + l3*s23)],\n",
              "[                                                    c1*(c2*l2 + l3*s23)],\n",
              "[-c1*(-c1*c23*l3 + c1*l2*s2 + l1*s1) + s1*(c1*l1 + c23*l3*s1 - l2*s1*s2)]])"
            ]
          },
          "execution_count": 13,
          "metadata": {},
          "output_type": "execute_result"
        }
      ],
      "source": [
        "b_1 = pr.array([-c1, -s1, 0])\n",
        "\n",
        "r_1_E = pr.array([c1*l1 - l2*s1*s2 + l3*s1*c23,\n",
        "                  l1*s1 + c1*l2*s2 - l3*c1*c23,\n",
        "                  c2*l2 + l3*s23])\n",
        "\n",
        "JL2 = pr.cross(b_1, r_1_E)\n",
        "\n",
        "JL2_ = Matrix(JL2)\n",
        "\n",
        "JL2_"
      ]
    },
    {
      "cell_type": "markdown",
      "metadata": {
        "id": "_Y9IgJ4s8QZT"
      },
      "source": [
        "#### i = 3"
      ]
    },
    {
      "cell_type": "markdown",
      "metadata": {
        "id": "GVZAg_ykzPp5"
      },
      "source": [
        "#### The following cell calculates the multiplication of Matrices $R_2$<sup>0</sup> $b$ and gives $\\hat{b_2}$"
      ]
    },
    {
      "cell_type": "code",
      "execution_count": 14,
      "metadata": {
        "colab": {
          "base_uri": "https://localhost:8080/",
          "height": 78
        },
        "id": "jUn_s5BJzQMC",
        "outputId": "08364e5a-d90a-4811-8dde-e4b7da67d77a"
      },
      "outputs": [
        {
          "data": {
            "text/latex": [
              "$\\displaystyle \\left[\\begin{matrix}- c_{1}\\\\- s_{1}\\\\0\\end{matrix}\\right]$"
            ],
            "text/plain": [
              "Matrix([\n",
              "[-c1],\n",
              "[-s1],\n",
              "[  0]])"
            ]
          },
          "execution_count": 14,
          "metadata": {},
          "output_type": "execute_result"
        }
      ],
      "source": [
        "b = Matrix([[0], [0], [1]])\n",
        "\n",
        "R_0_2 = Matrix([[-s1*s2, -c2*s1, -c1],\n",
        "                [c1*s2, c1*c2, -s1],\n",
        "                [c2, -s2, 0]])\n",
        "\n",
        "b_2 = R_0_2.multiply(b)\n",
        "\n",
        "b_2"
      ]
    },
    {
      "cell_type": "markdown",
      "metadata": {
        "id": "IF17h0-UzAEZ"
      },
      "source": [
        "#### The following cell calculates the $\\overrightarrow{r_{2,E}}$"
      ]
    },
    {
      "cell_type": "code",
      "execution_count": 15,
      "metadata": {
        "colab": {
          "base_uri": "https://localhost:8080/",
          "height": 98
        },
        "id": "PhZKTEeXzBkX",
        "outputId": "98164634-304a-4bd9-c148-e1e821cc601c"
      },
      "outputs": [
        {
          "data": {
            "text/latex": [
              "$\\displaystyle \\left[\\begin{matrix}c_{2} c_{3} l_{3} s_{1} - l_{3} s_{1} s_{2} s_{3}\\\\- c_{1} c_{2} c_{3} l_{3} + c_{1} l_{3} s_{2} s_{3}\\\\c_{2} l_{3} s_{3} + c_{3} l_{3} s_{2}\\\\0\\end{matrix}\\right]$"
            ],
            "text/plain": [
              "Matrix([\n",
              "[ c2*c3*l3*s1 - l3*s1*s2*s3],\n",
              "[-c1*c2*c3*l3 + c1*l3*s2*s3],\n",
              "[       c2*l3*s3 + c3*l3*s2],\n",
              "[                         0]])"
            ]
          },
          "execution_count": 15,
          "metadata": {},
          "output_type": "execute_result"
        }
      ],
      "source": [
        "r_2E = A_0_E.multiply(r) - A_0_2.multiply(r)\n",
        "\n",
        "r_2E"
      ]
    },
    {
      "cell_type": "markdown",
      "metadata": {
        "id": "L4rcMmFYzZxo"
      },
      "source": [
        "#### The following cell calculates the cross product of Matrices $\\hat{b_2}\\times \\hat{r_{2,E}}$ and gives $J_{L_3}$"
      ]
    },
    {
      "cell_type": "code",
      "execution_count": 16,
      "metadata": {
        "colab": {
          "base_uri": "https://localhost:8080/",
          "height": 78
        },
        "id": "DrDasUmCzaI9",
        "outputId": "45fc116d-185e-40f1-fb31-c8a68d787e9a"
      },
      "outputs": [
        {
          "data": {
            "text/latex": [
              "$\\displaystyle \\left[\\begin{matrix}- l_{3} s_{1} s_{23}\\\\c_{1} l_{3} s_{23}\\\\c_{1}^{2} c_{23} l_{3} + c_{23} l_{3} s_{1}^{2}\\end{matrix}\\right]$"
            ],
            "text/plain": [
              "Matrix([\n",
              "[                 -l3*s1*s23],\n",
              "[                  c1*l3*s23],\n",
              "[c1**2*c23*l3 + c23*l3*s1**2]])"
            ]
          },
          "execution_count": 16,
          "metadata": {},
          "output_type": "execute_result"
        }
      ],
      "source": [
        "b_2 = pr.array([-c1, -s1, 0])\n",
        "\n",
        "r_2_E = pr.array([l3*s1*c23,\n",
        "                  -l3*c1*c23,\n",
        "                  l3*s23])\n",
        "\n",
        "JL3 = pr.cross(b_2, r_2_E)\n",
        "\n",
        "JL3_ = Matrix(JL3)\n",
        "\n",
        "JL3_"
      ]
    },
    {
      "cell_type": "markdown",
      "metadata": {
        "id": "r6F2644X7itA"
      },
      "source": [
        "## Question 4"
      ]
    },
    {
      "cell_type": "markdown",
      "metadata": {
        "id": "NQ49it2V7ka0"
      },
      "source": [
        "#### The following cell calculates the determinant of J([1:3, 1:3]) "
      ]
    },
    {
      "cell_type": "code",
      "execution_count": 17,
      "metadata": {
        "colab": {
          "base_uri": "https://localhost:8080/",
          "height": 61
        },
        "id": "U5fIETL7CYRP",
        "outputId": "25bf8f53-e7dd-431d-e23e-ddaca5e5659c"
      },
      "outputs": [
        {
          "data": {
            "text/latex": [
              "$\\displaystyle c_{1}^{2} c_{2} c_{23}^{2} l_{2} l_{3}^{2} - c_{1}^{2} c_{2} c_{23} l_{2}^{2} l_{3} s_{2} + c_{1}^{2} c_{23} l_{2} l_{3}^{2} s_{2} s_{23} - c_{1}^{2} l_{2}^{2} l_{3} s_{2}^{2} s_{23} + c_{2} c_{23}^{2} l_{2} l_{3}^{2} s_{1}^{2} - c_{2} c_{23} l_{2}^{2} l_{3} s_{1}^{2} s_{2} + c_{23} l_{2} l_{3}^{2} s_{1}^{2} s_{2} s_{23} - l_{2}^{2} l_{3} s_{1}^{2} s_{2}^{2} s_{23}$"
            ],
            "text/plain": [
              "c1**2*c2*c23**2*l2*l3**2 - c1**2*c2*c23*l2**2*l3*s2 + c1**2*c23*l2*l3**2*s2*s23 - c1**2*l2**2*l3*s2**2*s23 + c2*c23**2*l2*l3**2*s1**2 - c2*c23*l2**2*l3*s1**2*s2 + c23*l2*l3**2*s1**2*s2*s23 - l2**2*l3*s1**2*s2**2*s23"
            ]
          },
          "execution_count": 17,
          "metadata": {},
          "output_type": "execute_result"
        }
      ],
      "source": [
        "Jac = np.array([[c1*c23*l3 - c1*l2*s2 - l1*s1, -s1*c2*l2 - s1*l3*s23, -l3*s1*s23],\n",
        "                [c1*l1 + c23*l3*s1 - l2*s1*s2, c1*c2*l2 + c1*l3*s23, c1*l3*s23],\n",
        "                [0, c23*l3 - l2*s2, l3*c23]])\n",
        "\n",
        "Jacob = Matrix(Jac)\n",
        "\n",
        "Jacob.det()"
      ]
    },
    {
      "cell_type": "markdown",
      "metadata": {
        "id": "af8MhOvhGWN3"
      },
      "source": [
        "#### The following cells cacluclate each element of the adjoint matrix seperately"
      ]
    },
    {
      "cell_type": "code",
      "execution_count": 18,
      "metadata": {
        "colab": {
          "base_uri": "https://localhost:8080/",
          "height": 39
        },
        "id": "1UzOMimCGc7d",
        "outputId": "9e157cc3-8420-434c-e7cf-5df26c40e2fc"
      },
      "outputs": [
        {
          "data": {
            "text/latex": [
              "$\\displaystyle c_{1} c_{2} c_{23} l_{2} l_{3} + c_{1} l_{2} l_{3} s_{2} s_{23}$"
            ],
            "text/plain": [
              "c1*c2*c23*l2*l3 + c1*l2*l3*s2*s23"
            ]
          },
          "execution_count": 18,
          "metadata": {},
          "output_type": "execute_result"
        }
      ],
      "source": [
        "A11 = Matrix([[c1*c2*l2 + c1*l3*s23, c1*l3*s23],\n",
        "              [c23*l3 - l2*s2, l3*c23]])\n",
        "\n",
        "A11.det()"
      ]
    },
    {
      "cell_type": "code",
      "execution_count": 19,
      "metadata": {
        "colab": {
          "base_uri": "https://localhost:8080/",
          "height": 39
        },
        "id": "1NWhQfZqHztR",
        "outputId": "1e80f16a-424e-4b4c-f8f6-45cd7ce29263"
      },
      "outputs": [
        {
          "data": {
            "text/latex": [
              "$\\displaystyle c_{1} c_{23} l_{1} l_{3} + c_{23}^{2} l_{3}^{2} s_{1} - c_{23} l_{2} l_{3} s_{1} s_{2}$"
            ],
            "text/plain": [
              "c1*c23*l1*l3 + c23**2*l3**2*s1 - c23*l2*l3*s1*s2"
            ]
          },
          "execution_count": 19,
          "metadata": {},
          "output_type": "execute_result"
        }
      ],
      "source": [
        "A12 = Matrix([[c1*l1 + c23*l3*s1 - l2*s1*s2, c1*l3*s23],\n",
        "              [0, l3*c23]])\n",
        "\n",
        "A12.det()"
      ]
    },
    {
      "cell_type": "code",
      "execution_count": 20,
      "metadata": {
        "colab": {
          "base_uri": "https://localhost:8080/",
          "height": 39
        },
        "id": "1LL1Nl15H_7o",
        "outputId": "f76e842b-6adc-49f5-e46f-67445272b7ea"
      },
      "outputs": [
        {
          "data": {
            "text/latex": [
              "$\\displaystyle c_{1} c_{23} l_{1} l_{3} - c_{1} l_{1} l_{2} s_{2} + c_{23}^{2} l_{3}^{2} s_{1} - 2 c_{23} l_{2} l_{3} s_{1} s_{2} + l_{2}^{2} s_{1} s_{2}^{2}$"
            ],
            "text/plain": [
              "c1*c23*l1*l3 - c1*l1*l2*s2 + c23**2*l3**2*s1 - 2*c23*l2*l3*s1*s2 + l2**2*s1*s2**2"
            ]
          },
          "execution_count": 20,
          "metadata": {},
          "output_type": "execute_result"
        }
      ],
      "source": [
        "A13 = Matrix([[c1*l1 + c23*l3*s1 - l2*s1*s2, c1*c2*l2 + c1*l3*s23],\n",
        "              [0, c23*l3 - l2*s2]])\n",
        "\n",
        "A13.det()"
      ]
    },
    {
      "cell_type": "code",
      "execution_count": 21,
      "metadata": {
        "colab": {
          "base_uri": "https://localhost:8080/",
          "height": 39
        },
        "id": "6AsHeD-wIAbQ",
        "outputId": "6505b55f-5ff2-409d-a456-bf39c9b25f61"
      },
      "outputs": [
        {
          "data": {
            "text/latex": [
              "$\\displaystyle - c_{2} c_{23} l_{2} l_{3} s_{1} - l_{2} l_{3} s_{1} s_{2} s_{23}$"
            ],
            "text/plain": [
              "-c2*c23*l2*l3*s1 - l2*l3*s1*s2*s23"
            ]
          },
          "execution_count": 21,
          "metadata": {},
          "output_type": "execute_result"
        }
      ],
      "source": [
        "A21 = Matrix([[-s1*c2*l2 -s1*l3*s23, -l3*s1*s23],\n",
        "              [c23*l3 - l2*s2, l3*c23]])\n",
        "\n",
        "A21.det()"
      ]
    },
    {
      "cell_type": "code",
      "execution_count": 22,
      "metadata": {
        "colab": {
          "base_uri": "https://localhost:8080/",
          "height": 39
        },
        "id": "acPjpW1nIBCz",
        "outputId": "95e76929-e018-4244-e30d-67fa32ebd4b1"
      },
      "outputs": [
        {
          "data": {
            "text/latex": [
              "$\\displaystyle c_{1} c_{23}^{2} l_{3}^{2} - c_{1} c_{23} l_{2} l_{3} s_{2} - c_{23} l_{1} l_{3} s_{1}$"
            ],
            "text/plain": [
              "c1*c23**2*l3**2 - c1*c23*l2*l3*s2 - c23*l1*l3*s1"
            ]
          },
          "execution_count": 22,
          "metadata": {},
          "output_type": "execute_result"
        }
      ],
      "source": [
        "A22 = Matrix([[c1*c23*l3 - c1*l2*s2 - l1*s1, -l3*s1*s23],\n",
        "              [0, l3*c23]])\n",
        "\n",
        "A22.det()"
      ]
    },
    {
      "cell_type": "code",
      "execution_count": 23,
      "metadata": {
        "colab": {
          "base_uri": "https://localhost:8080/",
          "height": 38
        },
        "id": "IP_hSQ0VIBVI",
        "outputId": "e8cfced5-cae7-43e4-fd4e-62dc7fc8a47d"
      },
      "outputs": [
        {
          "data": {
            "text/latex": [
              "$\\displaystyle c_{1} c_{23}^{2} l_{3}^{2} - 2 c_{1} c_{23} l_{2} l_{3} s_{2} + c_{1} l_{2}^{2} s_{2}^{2} - c_{23} l_{1} l_{3} s_{1} + l_{1} l_{2} s_{1} s_{2}$"
            ],
            "text/plain": [
              "c1*c23**2*l3**2 - 2*c1*c23*l2*l3*s2 + c1*l2**2*s2**2 - c23*l1*l3*s1 + l1*l2*s1*s2"
            ]
          },
          "execution_count": 23,
          "metadata": {},
          "output_type": "execute_result"
        }
      ],
      "source": [
        "A23 = Matrix([[c1*c23*l3 - c1*l2*s2 - l1*s1, -s1*c2*l2 - s1*l3*s23],\n",
        "              [0, c23*l3 - l2*s2]])\n",
        "\n",
        "A23.det()"
      ]
    },
    {
      "cell_type": "code",
      "execution_count": 24,
      "metadata": {
        "colab": {
          "base_uri": "https://localhost:8080/",
          "height": 38
        },
        "id": "ixdLxhzWIB4N",
        "outputId": "fedc2944-47c6-41e9-c30d-b8adbf17115b"
      },
      "outputs": [
        {
          "data": {
            "text/latex": [
              "$\\displaystyle 0$"
            ],
            "text/plain": [
              "0"
            ]
          },
          "execution_count": 24,
          "metadata": {},
          "output_type": "execute_result"
        }
      ],
      "source": [
        "A31 = Matrix([[-s1*c2*l2 - s1*l3*s23, -l3*s1*s23],\n",
        "              [c1*c2*l2 + c1*l3*s23, c1*l3*s23]])\n",
        "\n",
        "A31.det()"
      ]
    },
    {
      "cell_type": "code",
      "execution_count": 25,
      "metadata": {
        "colab": {
          "base_uri": "https://localhost:8080/",
          "height": 39
        },
        "id": "oi_iT7DVICMa",
        "outputId": "dd0adbd4-6c34-488a-d607-4a117633cf93"
      },
      "outputs": [
        {
          "data": {
            "text/latex": [
              "$\\displaystyle c_{1}^{2} c_{23} l_{3}^{2} s_{23} - c_{1}^{2} l_{2} l_{3} s_{2} s_{23} + c_{23} l_{3}^{2} s_{1}^{2} s_{23} - l_{2} l_{3} s_{1}^{2} s_{2} s_{23}$"
            ],
            "text/plain": [
              "c1**2*c23*l3**2*s23 - c1**2*l2*l3*s2*s23 + c23*l3**2*s1**2*s23 - l2*l3*s1**2*s2*s23"
            ]
          },
          "execution_count": 25,
          "metadata": {},
          "output_type": "execute_result"
        }
      ],
      "source": [
        "A32 = Matrix([[c1*c23*l3 - c1*l2*s2 - l1*s1, -l3*s1*s23],\n",
        "              [c1*l1 + c23*l3*s1 - l2*s1*s2, c1*l3*s23]])\n",
        "\n",
        "A32.det()"
      ]
    },
    {
      "cell_type": "code",
      "execution_count": 26,
      "metadata": {
        "colab": {
          "base_uri": "https://localhost:8080/",
          "height": 61
        },
        "id": "w0rg-60VICer",
        "outputId": "b507eb0d-6e12-4a3d-dcb8-97697266cdd7"
      },
      "outputs": [
        {
          "data": {
            "text/latex": [
              "$\\displaystyle c_{1}^{2} c_{2} c_{23} l_{2} l_{3} - c_{1}^{2} c_{2} l_{2}^{2} s_{2} + c_{1}^{2} c_{23} l_{3}^{2} s_{23} - c_{1}^{2} l_{2} l_{3} s_{2} s_{23} + c_{2} c_{23} l_{2} l_{3} s_{1}^{2} - c_{2} l_{2}^{2} s_{1}^{2} s_{2} + c_{23} l_{3}^{2} s_{1}^{2} s_{23} - l_{2} l_{3} s_{1}^{2} s_{2} s_{23}$"
            ],
            "text/plain": [
              "c1**2*c2*c23*l2*l3 - c1**2*c2*l2**2*s2 + c1**2*c23*l3**2*s23 - c1**2*l2*l3*s2*s23 + c2*c23*l2*l3*s1**2 - c2*l2**2*s1**2*s2 + c23*l3**2*s1**2*s23 - l2*l3*s1**2*s2*s23"
            ]
          },
          "execution_count": 26,
          "metadata": {},
          "output_type": "execute_result"
        }
      ],
      "source": [
        "Α33 = Matrix([[c1*c23*l3 - c1*l2*s2 - l1*s1, -s1*c2*l2 - s1*l3*s23],\n",
        "              [c1*l1 + c23*l3*s1 - l2*s1*s2, c1*c2*l2 + c1*l3*s23]])\n",
        "\n",
        "Α33.det()"
      ]
    },
    {
      "cell_type": "markdown",
      "metadata": {
        "id": "8IQyKl7hBCU-"
      },
      "source": [
        "#### The following cell calculates the adjoint matrix of $J_L$"
      ]
    },
    {
      "cell_type": "code",
      "execution_count": 27,
      "metadata": {
        "colab": {
          "base_uri": "https://localhost:8080/",
          "height": 98
        },
        "id": "Oz1_pjJlAUf2",
        "outputId": "f811c4e2-0817-462e-ea40-f1400812ea80"
      },
      "outputs": [
        {
          "data": {
            "text/latex": [
              "$\\displaystyle \\left[\\begin{matrix}c_{1} c_{2} c_{23} l_{2} l_{3} + c_{1} l_{2} l_{3} s_{2} s_{23} & c_{2} c_{23} l_{2} l_{3} s_{1} + l_{2} l_{3} s_{1} s_{2} s_{23} & 0\\\\- c_{1} c_{23} l_{1} l_{3} - c_{23}^{2} l_{3}^{2} s_{1} + c_{23} l_{2} l_{3} s_{1} s_{2} & c_{1} c_{23}^{2} l_{3}^{2} - c_{1} c_{23} l_{2} l_{3} s_{2} - c_{23} l_{1} l_{3} s_{1} & - c_{1}^{2} c_{23} l_{3}^{2} s_{23} + c_{1}^{2} l_{2} l_{3} s_{2} s_{23} - c_{23} l_{3}^{2} s_{1}^{2} s_{23} + l_{2} l_{3} s_{1}^{2} s_{2} s_{23}\\\\c_{1} c_{23} l_{1} l_{3} - c_{1} l_{1} l_{2} s_{2} + c_{23}^{2} l_{3}^{2} s_{1} - 2 c_{23} l_{2} l_{3} s_{1} s_{2} + l_{2}^{2} s_{1} s_{2}^{2} & - c_{1} c_{23}^{2} l_{3}^{2} + 2 c_{1} c_{23} l_{2} l_{3} s_{2} - c_{1} l_{2}^{2} s_{2}^{2} + c_{23} l_{1} l_{3} s_{1} - l_{1} l_{2} s_{1} s_{2} & c_{1}^{2} c_{2} c_{23} l_{2} l_{3} - c_{1}^{2} c_{2} l_{2}^{2} s_{2} + c_{1}^{2} c_{23} l_{3}^{2} s_{23} - c_{1}^{2} l_{2} l_{3} s_{2} s_{23} + c_{2} c_{23} l_{2} l_{3} s_{1}^{2} - c_{2} l_{2}^{2} s_{1}^{2} s_{2} + c_{23} l_{3}^{2} s_{1}^{2} s_{23} - l_{2} l_{3} s_{1}^{2} s_{2} s_{23}\\end{matrix}\\right]$"
            ],
            "text/plain": [
              "Matrix([\n",
              "[                                                c1*c2*c23*l2*l3 + c1*l2*l3*s2*s23,                                                  c2*c23*l2*l3*s1 + l2*l3*s1*s2*s23,                                                                                                                                                                     0],\n",
              "[                                -c1*c23*l1*l3 - c23**2*l3**2*s1 + c23*l2*l3*s1*s2,                                   c1*c23**2*l3**2 - c1*c23*l2*l3*s2 - c23*l1*l3*s1,                                                                                  -c1**2*c23*l3**2*s23 + c1**2*l2*l3*s2*s23 - c23*l3**2*s1**2*s23 + l2*l3*s1**2*s2*s23],\n",
              "[c1*c23*l1*l3 - c1*l1*l2*s2 + c23**2*l3**2*s1 - 2*c23*l2*l3*s1*s2 + l2**2*s1*s2**2, -c1*c23**2*l3**2 + 2*c1*c23*l2*l3*s2 - c1*l2**2*s2**2 + c23*l1*l3*s1 - l1*l2*s1*s2, c1**2*c2*c23*l2*l3 - c1**2*c2*l2**2*s2 + c1**2*c23*l3**2*s23 - c1**2*l2*l3*s2*s23 + c2*c23*l2*l3*s1**2 - c2*l2**2*s1**2*s2 + c23*l3**2*s1**2*s23 - l2*l3*s1**2*s2*s23]])"
            ]
          },
          "execution_count": 27,
          "metadata": {},
          "output_type": "execute_result"
        }
      ],
      "source": [
        "J_L = Matrix([[c1*c23*l3 - c1*l2*s2 - l1*s1, -s1*c2*l2 - s1*l3*s23, -l3*s1*s23],\n",
        "              [c1*l1 + c23*l3*s1 - l2*s1*s2, c1*c2*l2 + c1*l3*s23, c1*l3*s23],\n",
        "              [0, c23*l3 - l2*s2, l3*c23]])\n",
        "\n",
        "adj = J_L.adjugate()\n",
        "\n",
        "adj"
      ]
    },
    {
      "cell_type": "markdown",
      "metadata": {
        "id": "YOwjQ9c_Xj1D"
      },
      "source": [
        "## Question 5"
      ]
    },
    {
      "cell_type": "code",
      "execution_count": 28,
      "metadata": {
        "colab": {
          "base_uri": "https://localhost:8080/",
          "height": 106
        },
        "id": "G__78BKGZZd0",
        "outputId": "8e908423-2747-47a1-9880-f6b6cf249a82"
      },
      "outputs": [
        {
          "data": {
            "text/latex": [
              "$\\displaystyle \\left[\\begin{matrix}\\frac{s_{1}}{c_{1}^{2} + s_{1}^{2}} & - \\frac{c_{1}}{c_{1}^{2} + s_{1}^{2}} & 0 & 0\\\\0 & 0 & 1 & - l_{0}\\\\\\frac{c_{1}}{- c_{1}^{2} - s_{1}^{2}} & \\frac{s_{1}}{- c_{1}^{2} - s_{1}^{2}} & 0 & 0\\\\0 & 0 & 0 & 1\\end{matrix}\\right]$"
            ],
            "text/plain": [
              "Matrix([\n",
              "[ s1/(c1**2 + s1**2), -c1/(c1**2 + s1**2), 0,   0],\n",
              "[                  0,                   0, 1, -l0],\n",
              "[c1/(-c1**2 - s1**2), s1/(-c1**2 - s1**2), 0,   0],\n",
              "[                  0,                   0, 0,   1]])"
            ]
          },
          "execution_count": 28,
          "metadata": {},
          "output_type": "execute_result"
        }
      ],
      "source": [
        "A_0_1 = Matrix([[s1, 0, -c1, 0],\n",
        "                [-c1, 0, -s1, 0],\n",
        "                [0, 1, 0, l0],\n",
        "                [0, 0, 0, 1]])\n",
        "  \n",
        "A_0_1_inv = A_0_1.inv()\n",
        "\n",
        "A_0_1_inv"
      ]
    },
    {
      "cell_type": "code",
      "execution_count": 29,
      "metadata": {
        "colab": {
          "base_uri": "https://localhost:8080/",
          "height": 106
        },
        "id": "x7Qq80S2aidn",
        "outputId": "eed4b1df-0adb-440b-b755-675d65a86626"
      },
      "outputs": [
        {
          "data": {
            "text/latex": [
              "$\\displaystyle \\left[\\begin{matrix}- \\frac{c_{1} ny}{c_{1}^{2} + s_{1}^{2}} + \\frac{nx s_{1}}{c_{1}^{2} + s_{1}^{2}} & - \\frac{c_{1} oy}{c_{1}^{2} + s_{1}^{2}} + \\frac{ox s_{1}}{c_{1}^{2} + s_{1}^{2}} & \\frac{ax s_{1}}{c_{1}^{2} + s_{1}^{2}} - \\frac{ay c_{1}}{c_{1}^{2} + s_{1}^{2}} & - \\frac{c_{1} py}{c_{1}^{2} + s_{1}^{2}} + \\frac{px s_{1}}{c_{1}^{2} + s_{1}^{2}}\\\\nz & oz & az & - l_{0} + pz\\\\\\frac{c_{1} nx}{- c_{1}^{2} - s_{1}^{2}} + \\frac{ny s_{1}}{- c_{1}^{2} - s_{1}^{2}} & \\frac{c_{1} ox}{- c_{1}^{2} - s_{1}^{2}} + \\frac{oy s_{1}}{- c_{1}^{2} - s_{1}^{2}} & \\frac{ax c_{1}}{- c_{1}^{2} - s_{1}^{2}} + \\frac{ay s_{1}}{- c_{1}^{2} - s_{1}^{2}} & \\frac{c_{1} px}{- c_{1}^{2} - s_{1}^{2}} + \\frac{py s_{1}}{- c_{1}^{2} - s_{1}^{2}}\\\\0 & 0 & 0 & 1\\end{matrix}\\right]$"
            ],
            "text/plain": [
              "Matrix([\n",
              "[ -c1*ny/(c1**2 + s1**2) + nx*s1/(c1**2 + s1**2),  -c1*oy/(c1**2 + s1**2) + ox*s1/(c1**2 + s1**2),   ax*s1/(c1**2 + s1**2) - ay*c1/(c1**2 + s1**2),  -c1*py/(c1**2 + s1**2) + px*s1/(c1**2 + s1**2)],\n",
              "[                                             nz,                                              oz,                                              az,                                        -l0 + pz],\n",
              "[c1*nx/(-c1**2 - s1**2) + ny*s1/(-c1**2 - s1**2), c1*ox/(-c1**2 - s1**2) + oy*s1/(-c1**2 - s1**2), ax*c1/(-c1**2 - s1**2) + ay*s1/(-c1**2 - s1**2), c1*px/(-c1**2 - s1**2) + py*s1/(-c1**2 - s1**2)],\n",
              "[                                              0,                                               0,                                               0,                                               1]])"
            ]
          },
          "execution_count": 29,
          "metadata": {},
          "output_type": "execute_result"
        }
      ],
      "source": [
        "mat = Matrix([[nx, ox, ax, px],\n",
        "              [ny, oy, ay, py],\n",
        "              [nz, oz, az, pz],\n",
        "              [0, 0, 0, 1]])\n",
        "\n",
        "mat1 = A_0_1_inv.multiply(mat)\n",
        "\n",
        "mat1"
      ]
    },
    {
      "cell_type": "code",
      "execution_count": 30,
      "metadata": {
        "colab": {
          "base_uri": "https://localhost:8080/",
          "height": 116
        },
        "id": "EgzMpJV1bSaa",
        "outputId": "86b515ad-d560-4d11-821f-ca9ebde2eb0d"
      },
      "outputs": [
        {
          "data": {
            "text/latex": [
              "$\\displaystyle \\left[\\begin{matrix}0 & - \\frac{c_{1}^{2} c_{23}}{c_{1}^{2} + s_{1}^{2}} - \\frac{c_{23} s_{1}^{2}}{c_{1}^{2} + s_{1}^{2}} & - \\frac{c_{1}^{2} s_{23}}{c_{1}^{2} + s_{1}^{2}} - \\frac{s_{1}^{2} s_{23}}{c_{1}^{2} + s_{1}^{2}} & - \\frac{c_{1} \\left(- c_{1} c_{23} l_{3} + c_{1} l_{2} s_{2} + l_{1} s_{1}\\right)}{c_{1}^{2} + s_{1}^{2}} + \\frac{s_{1} \\left(c_{1} l_{1} + c_{23} l_{3} s_{1} - l_{2} s_{1} s_{2}\\right)}{c_{1}^{2} + s_{1}^{2}}\\\\0 & - s_{23} & c_{23} & c_{2} l_{2} + l_{3} s_{23}\\\\\\frac{c_{1}^{2}}{- c_{1}^{2} - s_{1}^{2}} + \\frac{s_{1}^{2}}{- c_{1}^{2} - s_{1}^{2}} & 0 & 0 & \\frac{c_{1} \\left(c_{1} l_{1} + c_{23} l_{3} s_{1} - l_{2} s_{1} s_{2}\\right)}{- c_{1}^{2} - s_{1}^{2}} + \\frac{s_{1} \\left(- c_{1} c_{23} l_{3} + c_{1} l_{2} s_{2} + l_{1} s_{1}\\right)}{- c_{1}^{2} - s_{1}^{2}}\\\\0 & 0 & 0 & 1\\end{matrix}\\right]$"
            ],
            "text/plain": [
              "Matrix([\n",
              "[                                              0, -c1**2*c23/(c1**2 + s1**2) - c23*s1**2/(c1**2 + s1**2), -c1**2*s23/(c1**2 + s1**2) - s1**2*s23/(c1**2 + s1**2),  -c1*(-c1*c23*l3 + c1*l2*s2 + l1*s1)/(c1**2 + s1**2) + s1*(c1*l1 + c23*l3*s1 - l2*s1*s2)/(c1**2 + s1**2)],\n",
              "[                                              0,                                                   -s23,                                                    c23,                                                                                           c2*l2 + l3*s23],\n",
              "[c1**2/(-c1**2 - s1**2) + s1**2/(-c1**2 - s1**2),                                                      0,                                                      0, c1*(c1*l1 + c23*l3*s1 - l2*s1*s2)/(-c1**2 - s1**2) + s1*(-c1*c23*l3 + c1*l2*s2 + l1*s1)/(-c1**2 - s1**2)],\n",
              "[                                              0,                                                      0,                                                      0,                                                                                                        1]])"
            ]
          },
          "execution_count": 30,
          "metadata": {},
          "output_type": "execute_result"
        }
      ],
      "source": [
        "mat2 = A_0_1_inv.multiply(A_0_E_new)\n",
        "\n",
        "mat2"
      ]
    },
    {
      "cell_type": "code",
      "execution_count": 38,
      "metadata": {
        "colab": {
          "base_uri": "https://localhost:8080/",
          "height": 40
        },
        "id": "7TiATGHbuYbZ",
        "outputId": "de23ed6f-6d90-47b2-a85e-11f6c968e04d"
      },
      "outputs": [
        {
          "data": {
            "text/latex": [
              "$\\displaystyle \\left(c_{1} l_{1} + c_{23} l_{3} s_{1} - l_{2} s_{1} s_{2}\\right)^{2} + \\left(c_{1} c_{2} l_{2} - c_{1} c_{23} l_{3} + l_{1} s_{1}\\right)^{2}$"
            ],
            "text/plain": [
              "(c1*l1 + c23*l3*s1 - l2*s1*s2)**2 + (c1*c2*l2 - c1*c23*l3 + l1*s1)**2"
            ]
          },
          "execution_count": 38,
          "metadata": {},
          "output_type": "execute_result"
        }
      ],
      "source": [
        "x = c1*l1 - l2*s1*s2 + l3*s1*c23\n",
        "y = l1*s1 + l2*c1*c2 - l3*c1*c23\n",
        "\n",
        "a = pow(x,2) + pow(y,2)\n",
        "\n",
        "a"
      ]
    }
  ],
  "metadata": {
    "colab": {
      "collapsed_sections": [],
      "name": "robo_project.ipynb",
      "provenance": []
    },
    "kernelspec": {
      "display_name": "Python 3",
      "name": "python3"
    },
    "language_info": {
      "name": "python"
    }
  },
  "nbformat": 4,
  "nbformat_minor": 0
}
